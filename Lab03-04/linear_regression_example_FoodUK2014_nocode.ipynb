{
  "cells": [
    {
      "cell_type": "markdown",
      "metadata": {
        "id": "Gjs1igmeCryd"
      },
      "source": [
        "\n",
        "# Linear Regression Example\n",
        "The example below uses a [marketing](https://scikit-learn.org/stable/datasets/toy_dataset.html) dataset,\n",
        "in order to illustrate a linear regression activity.\n",
        "\n",
        "Workflow:\n",
        "\n"
      ]
    },
    {
      "cell_type": "markdown",
      "metadata": {
        "id": "NYx4G7-qCryf"
      },
      "source": [
        "1. Preparation\n",
        "    1. Load the dataset from a `.csv` file and show a short description\n",
        "    1. Show the two dimensional scatter plots for all the predicting variables with respect to the target\n",
        "    1. Split the data into *predicting variables* `X` and *target* `y`\n",
        "        1. here we set the `random_state` variable to make the experiment *repeatable* \n",
        "1. First experiment: compute the regression on a single predicting variable\n",
        "    1. Consider a reduced dataset containing the chosen variable and the target\n",
        "    1. Fit the `LinearRegression` estimator on the training set\n",
        "    1. Show the statistical significance of the fitted model\n",
        "    1. Predict the target for the test set using the *fitted* estimator\n",
        "    1. Compute the regression coefficients and the quality measures: *Root Mean Squared Error (RMSE)* and *coefficient of determination (r2)*\n",
        "1. Second experiment: compute the regression considering all the predicting variables\n",
        "    1. Repeat the steps from 2.2 to 2.5\n",
        "1. Third experiment: use the `DecisionTreeRegressor` with the entire dataset\n",
        "    1. Fit the tree using the default hyperparameters, in order to find the \n",
        "    maximum depth of the unconstrained tree\n",
        "    1. Use *cross-validation* to find the optimal *maximum depth* of the tree\n",
        "    1. Fit the tree with the optmal `max_depth`\n",
        "    1. Predict and show the *root mean squared error*\n",
        "1. Fourth experiment: use the `RandomForestRegressor`\n",
        "    1. Repeat steps from 4.2 to 4.4 (for simplicity, we use the maximum `max_depth` found in 4.1)\n"
      ]
    },
    {
      "cell_type": "code",
      "execution_count": null,
      "metadata": {
        "id": "Y9-lBCVXCryh"
      },
      "outputs": [],
      "source": [
        "# Code source: Claudio Sartori \n",
        "# License: BSD 3 clause\n",
        "\n",
        "import matplotlib.pyplot as plt\n",
        "import numpy as np\n",
        "import scipy.stats\n",
        "from sklearn import datasets, linear_model\n",
        "import sklearn.metrics as metrics #from ... import mean_squared_error, r2_score\n",
        "import pandas as pd\n",
        "from sklearn.model_selection import train_test_split\n",
        "import seaborn as sns\n",
        "\n",
        "random_state = 94922767 # this will be used to guarantee the repeatability of the experiment"
      ]
    },
    {
      "cell_type": "code",
      "source": [
        "!pip install symbulate"
      ],
      "metadata": {
        "colab": {
          "base_uri": "https://localhost:8080/"
        },
        "id": "czoCH9p5bGtz",
        "outputId": "6aa50cf5-3e61-4392-a763-8142c7b2e04a"
      },
      "execution_count": null,
      "outputs": [
        {
          "output_type": "stream",
          "name": "stdout",
          "text": [
            "Looking in indexes: https://pypi.org/simple, https://us-python.pkg.dev/colab-wheels/public/simple/\n",
            "Collecting symbulate\n",
            "  Downloading symbulate-0.5.7-py3-none-any.whl (44 kB)\n",
            "\u001b[2K     \u001b[90m━━━━━━━━━━━━━━━━━━━━━━━━━━━━━━━━━━━━━━━\u001b[0m \u001b[32m44.9/44.9 KB\u001b[0m \u001b[31m592.0 kB/s\u001b[0m eta \u001b[36m0:00:00\u001b[0m\n",
            "\u001b[?25hRequirement already satisfied: numpy in /usr/local/lib/python3.8/dist-packages (from symbulate) (1.21.6)\n",
            "Requirement already satisfied: matplotlib in /usr/local/lib/python3.8/dist-packages (from symbulate) (3.2.2)\n",
            "Requirement already satisfied: scipy in /usr/local/lib/python3.8/dist-packages (from symbulate) (1.7.3)\n",
            "Requirement already satisfied: pyparsing!=2.0.4,!=2.1.2,!=2.1.6,>=2.0.1 in /usr/local/lib/python3.8/dist-packages (from matplotlib->symbulate) (3.0.9)\n",
            "Requirement already satisfied: cycler>=0.10 in /usr/local/lib/python3.8/dist-packages (from matplotlib->symbulate) (0.11.0)\n",
            "Requirement already satisfied: python-dateutil>=2.1 in /usr/local/lib/python3.8/dist-packages (from matplotlib->symbulate) (2.8.2)\n",
            "Requirement already satisfied: kiwisolver>=1.0.1 in /usr/local/lib/python3.8/dist-packages (from matplotlib->symbulate) (1.4.4)\n",
            "Requirement already satisfied: six>=1.5 in /usr/local/lib/python3.8/dist-packages (from python-dateutil>=2.1->matplotlib->symbulate) (1.15.0)\n",
            "Installing collected packages: symbulate\n",
            "Successfully installed symbulate-0.5.7\n"
          ]
        }
      ]
    },
    {
      "cell_type": "markdown",
      "metadata": {
        "id": "lU6jnYJbCryi"
      },
      "source": [
        "## Load the dataset from a `.xlsx` file and show a short description"
      ]
    },
    {
      "cell_type": "code",
      "execution_count": null,
      "metadata": {
        "colab": {
          "base_uri": "https://localhost:8080/",
          "height": 76
        },
        "id": "XaZcI2b6Cryi",
        "outputId": "a30cbb67-6077-4d53-9a43-c42a4df7b942"
      },
      "outputs": [
        {
          "output_type": "display_data",
          "data": {
            "text/plain": [
              "<IPython.core.display.HTML object>"
            ],
            "text/html": [
              "\n",
              "     <input type=\"file\" id=\"files-4c271898-cde1-42cf-a58a-15b4c8008ad9\" name=\"files[]\" multiple disabled\n",
              "        style=\"border:none\" />\n",
              "     <output id=\"result-4c271898-cde1-42cf-a58a-15b4c8008ad9\">\n",
              "      Upload widget is only available when the cell has been executed in the\n",
              "      current browser session. Please rerun this cell to enable.\n",
              "      </output>\n",
              "      <script>// Copyright 2017 Google LLC\n",
              "//\n",
              "// Licensed under the Apache License, Version 2.0 (the \"License\");\n",
              "// you may not use this file except in compliance with the License.\n",
              "// You may obtain a copy of the License at\n",
              "//\n",
              "//      http://www.apache.org/licenses/LICENSE-2.0\n",
              "//\n",
              "// Unless required by applicable law or agreed to in writing, software\n",
              "// distributed under the License is distributed on an \"AS IS\" BASIS,\n",
              "// WITHOUT WARRANTIES OR CONDITIONS OF ANY KIND, either express or implied.\n",
              "// See the License for the specific language governing permissions and\n",
              "// limitations under the License.\n",
              "\n",
              "/**\n",
              " * @fileoverview Helpers for google.colab Python module.\n",
              " */\n",
              "(function(scope) {\n",
              "function span(text, styleAttributes = {}) {\n",
              "  const element = document.createElement('span');\n",
              "  element.textContent = text;\n",
              "  for (const key of Object.keys(styleAttributes)) {\n",
              "    element.style[key] = styleAttributes[key];\n",
              "  }\n",
              "  return element;\n",
              "}\n",
              "\n",
              "// Max number of bytes which will be uploaded at a time.\n",
              "const MAX_PAYLOAD_SIZE = 100 * 1024;\n",
              "\n",
              "function _uploadFiles(inputId, outputId) {\n",
              "  const steps = uploadFilesStep(inputId, outputId);\n",
              "  const outputElement = document.getElementById(outputId);\n",
              "  // Cache steps on the outputElement to make it available for the next call\n",
              "  // to uploadFilesContinue from Python.\n",
              "  outputElement.steps = steps;\n",
              "\n",
              "  return _uploadFilesContinue(outputId);\n",
              "}\n",
              "\n",
              "// This is roughly an async generator (not supported in the browser yet),\n",
              "// where there are multiple asynchronous steps and the Python side is going\n",
              "// to poll for completion of each step.\n",
              "// This uses a Promise to block the python side on completion of each step,\n",
              "// then passes the result of the previous step as the input to the next step.\n",
              "function _uploadFilesContinue(outputId) {\n",
              "  const outputElement = document.getElementById(outputId);\n",
              "  const steps = outputElement.steps;\n",
              "\n",
              "  const next = steps.next(outputElement.lastPromiseValue);\n",
              "  return Promise.resolve(next.value.promise).then((value) => {\n",
              "    // Cache the last promise value to make it available to the next\n",
              "    // step of the generator.\n",
              "    outputElement.lastPromiseValue = value;\n",
              "    return next.value.response;\n",
              "  });\n",
              "}\n",
              "\n",
              "/**\n",
              " * Generator function which is called between each async step of the upload\n",
              " * process.\n",
              " * @param {string} inputId Element ID of the input file picker element.\n",
              " * @param {string} outputId Element ID of the output display.\n",
              " * @return {!Iterable<!Object>} Iterable of next steps.\n",
              " */\n",
              "function* uploadFilesStep(inputId, outputId) {\n",
              "  const inputElement = document.getElementById(inputId);\n",
              "  inputElement.disabled = false;\n",
              "\n",
              "  const outputElement = document.getElementById(outputId);\n",
              "  outputElement.innerHTML = '';\n",
              "\n",
              "  const pickedPromise = new Promise((resolve) => {\n",
              "    inputElement.addEventListener('change', (e) => {\n",
              "      resolve(e.target.files);\n",
              "    });\n",
              "  });\n",
              "\n",
              "  const cancel = document.createElement('button');\n",
              "  inputElement.parentElement.appendChild(cancel);\n",
              "  cancel.textContent = 'Cancel upload';\n",
              "  const cancelPromise = new Promise((resolve) => {\n",
              "    cancel.onclick = () => {\n",
              "      resolve(null);\n",
              "    };\n",
              "  });\n",
              "\n",
              "  // Wait for the user to pick the files.\n",
              "  const files = yield {\n",
              "    promise: Promise.race([pickedPromise, cancelPromise]),\n",
              "    response: {\n",
              "      action: 'starting',\n",
              "    }\n",
              "  };\n",
              "\n",
              "  cancel.remove();\n",
              "\n",
              "  // Disable the input element since further picks are not allowed.\n",
              "  inputElement.disabled = true;\n",
              "\n",
              "  if (!files) {\n",
              "    return {\n",
              "      response: {\n",
              "        action: 'complete',\n",
              "      }\n",
              "    };\n",
              "  }\n",
              "\n",
              "  for (const file of files) {\n",
              "    const li = document.createElement('li');\n",
              "    li.append(span(file.name, {fontWeight: 'bold'}));\n",
              "    li.append(span(\n",
              "        `(${file.type || 'n/a'}) - ${file.size} bytes, ` +\n",
              "        `last modified: ${\n",
              "            file.lastModifiedDate ? file.lastModifiedDate.toLocaleDateString() :\n",
              "                                    'n/a'} - `));\n",
              "    const percent = span('0% done');\n",
              "    li.appendChild(percent);\n",
              "\n",
              "    outputElement.appendChild(li);\n",
              "\n",
              "    const fileDataPromise = new Promise((resolve) => {\n",
              "      const reader = new FileReader();\n",
              "      reader.onload = (e) => {\n",
              "        resolve(e.target.result);\n",
              "      };\n",
              "      reader.readAsArrayBuffer(file);\n",
              "    });\n",
              "    // Wait for the data to be ready.\n",
              "    let fileData = yield {\n",
              "      promise: fileDataPromise,\n",
              "      response: {\n",
              "        action: 'continue',\n",
              "      }\n",
              "    };\n",
              "\n",
              "    // Use a chunked sending to avoid message size limits. See b/62115660.\n",
              "    let position = 0;\n",
              "    do {\n",
              "      const length = Math.min(fileData.byteLength - position, MAX_PAYLOAD_SIZE);\n",
              "      const chunk = new Uint8Array(fileData, position, length);\n",
              "      position += length;\n",
              "\n",
              "      const base64 = btoa(String.fromCharCode.apply(null, chunk));\n",
              "      yield {\n",
              "        response: {\n",
              "          action: 'append',\n",
              "          file: file.name,\n",
              "          data: base64,\n",
              "        },\n",
              "      };\n",
              "\n",
              "      let percentDone = fileData.byteLength === 0 ?\n",
              "          100 :\n",
              "          Math.round((position / fileData.byteLength) * 100);\n",
              "      percent.textContent = `${percentDone}% done`;\n",
              "\n",
              "    } while (position < fileData.byteLength);\n",
              "  }\n",
              "\n",
              "  // All done.\n",
              "  yield {\n",
              "    response: {\n",
              "      action: 'complete',\n",
              "    }\n",
              "  };\n",
              "}\n",
              "\n",
              "scope.google = scope.google || {};\n",
              "scope.google.colab = scope.google.colab || {};\n",
              "scope.google.colab._files = {\n",
              "  _uploadFiles,\n",
              "  _uploadFilesContinue,\n",
              "};\n",
              "})(self);\n",
              "</script> "
            ]
          },
          "metadata": {}
        },
        {
          "output_type": "stream",
          "name": "stdout",
          "text": [
            "Saving FoodUK2014.xlsx to FoodUK2014.xlsx\n"
          ]
        }
      ],
      "source": [
        "# This cell allows full compatibility between execution in Google Colab and in local\n",
        "try:\n",
        "  # import google.colab.files\n",
        "  from google.colab import files\n",
        "  IN_COLAB = True\n",
        "except:\n",
        "  IN_COLAB = False\n",
        "if IN_COLAB:\n",
        "    uploaded = files.upload()"
      ]
    },
    {
      "cell_type": "code",
      "execution_count": null,
      "metadata": {
        "id": "fZxVJfiNCryj"
      },
      "outputs": [],
      "source": [
        "# The file must be available in the same directory, \n",
        "# or uploaded in the Colab environment \n",
        "# in the execution of the previous cell\n",
        "data_fn = 'FoodUK2014.xlsx'\n",
        "df0 = pd.read_excel(data_fn)"
      ]
    },
    {
      "cell_type": "markdown",
      "metadata": {
        "id": "5nE0N8rECryj"
      },
      "source": [
        "## Data Exploration and preparation"
      ]
    },
    {
      "cell_type": "markdown",
      "metadata": {
        "id": "7icW17LXCryk"
      },
      "source": [
        "##### Show a short description of the columns"
      ]
    },
    {
      "cell_type": "code",
      "execution_count": null,
      "metadata": {
        "colab": {
          "base_uri": "https://localhost:8080/",
          "height": 374
        },
        "id": "LFpFw_dcCryl",
        "outputId": "873daa79-5176-4b84-d7b9-26370f2d2010"
      },
      "outputs": [
        {
          "output_type": "execute_result",
          "data": {
            "text/plain": [
              "   hhsize              quarter  adults_n  children_n    totalexp  SexHRP  \\\n",
              "0       4        April to June         2           2  556.213795  Female   \n",
              "1       4    July to September         2           2  737.685635    Male   \n",
              "2       2  October to December         2           0  330.775000    Male   \n",
              "3       2        April to June         2           0  536.742283    Male   \n",
              "4       3        April to June         3           0  880.787157    Male   \n",
              "\n",
              "     month                       Gorx  Year   income  AgeHRP      qmeat  \\\n",
              "0    April              West Midlands  2014  985.655      34  13.745333   \n",
              "1   August                 North East  2014  824.520      38   6.045000   \n",
              "2  October           Northern Ireland  2014  271.925      54  11.780167   \n",
              "3     June  North West and Merseyside  2014  611.490      64   2.745167   \n",
              "4    April              East Midlands  2014  496.040      64  12.857000   \n",
              "\n",
              "      qfish        qfv      xmeat      xfish        xfv    uvmeat     uvfish  \\\n",
              "0       NaN  37.301331  96.156670        NaN  69.268333  6.995586        NaN   \n",
              "1  0.650000  30.203335  53.278336   6.500000  62.833336  8.813621  10.000000   \n",
              "2  2.088667  17.032166  93.838333  28.491667  42.813335  7.965790  13.641079   \n",
              "3       NaN   4.008333  16.856667        NaN   5.416667  6.140490        NaN   \n",
              "4  2.903333   7.345000  73.623337  16.921667  19.261665  5.726323   5.828358   \n",
              "\n",
              "       uvfv  \n",
              "0  1.856993  \n",
              "1  2.080344  \n",
              "2  2.513675  \n",
              "3  1.351351  \n",
              "4  2.622419  "
            ],
            "text/html": [
              "\n",
              "  <div id=\"df-29bc4f02-813e-4333-91de-772c5c754620\">\n",
              "    <div class=\"colab-df-container\">\n",
              "      <div>\n",
              "<style scoped>\n",
              "    .dataframe tbody tr th:only-of-type {\n",
              "        vertical-align: middle;\n",
              "    }\n",
              "\n",
              "    .dataframe tbody tr th {\n",
              "        vertical-align: top;\n",
              "    }\n",
              "\n",
              "    .dataframe thead th {\n",
              "        text-align: right;\n",
              "    }\n",
              "</style>\n",
              "<table border=\"1\" class=\"dataframe\">\n",
              "  <thead>\n",
              "    <tr style=\"text-align: right;\">\n",
              "      <th></th>\n",
              "      <th>hhsize</th>\n",
              "      <th>quarter</th>\n",
              "      <th>adults_n</th>\n",
              "      <th>children_n</th>\n",
              "      <th>totalexp</th>\n",
              "      <th>SexHRP</th>\n",
              "      <th>month</th>\n",
              "      <th>Gorx</th>\n",
              "      <th>Year</th>\n",
              "      <th>income</th>\n",
              "      <th>AgeHRP</th>\n",
              "      <th>qmeat</th>\n",
              "      <th>qfish</th>\n",
              "      <th>qfv</th>\n",
              "      <th>xmeat</th>\n",
              "      <th>xfish</th>\n",
              "      <th>xfv</th>\n",
              "      <th>uvmeat</th>\n",
              "      <th>uvfish</th>\n",
              "      <th>uvfv</th>\n",
              "    </tr>\n",
              "  </thead>\n",
              "  <tbody>\n",
              "    <tr>\n",
              "      <th>0</th>\n",
              "      <td>4</td>\n",
              "      <td>April to June</td>\n",
              "      <td>2</td>\n",
              "      <td>2</td>\n",
              "      <td>556.213795</td>\n",
              "      <td>Female</td>\n",
              "      <td>April</td>\n",
              "      <td>West Midlands</td>\n",
              "      <td>2014</td>\n",
              "      <td>985.655</td>\n",
              "      <td>34</td>\n",
              "      <td>13.745333</td>\n",
              "      <td>NaN</td>\n",
              "      <td>37.301331</td>\n",
              "      <td>96.156670</td>\n",
              "      <td>NaN</td>\n",
              "      <td>69.268333</td>\n",
              "      <td>6.995586</td>\n",
              "      <td>NaN</td>\n",
              "      <td>1.856993</td>\n",
              "    </tr>\n",
              "    <tr>\n",
              "      <th>1</th>\n",
              "      <td>4</td>\n",
              "      <td>July to September</td>\n",
              "      <td>2</td>\n",
              "      <td>2</td>\n",
              "      <td>737.685635</td>\n",
              "      <td>Male</td>\n",
              "      <td>August</td>\n",
              "      <td>North East</td>\n",
              "      <td>2014</td>\n",
              "      <td>824.520</td>\n",
              "      <td>38</td>\n",
              "      <td>6.045000</td>\n",
              "      <td>0.650000</td>\n",
              "      <td>30.203335</td>\n",
              "      <td>53.278336</td>\n",
              "      <td>6.500000</td>\n",
              "      <td>62.833336</td>\n",
              "      <td>8.813621</td>\n",
              "      <td>10.000000</td>\n",
              "      <td>2.080344</td>\n",
              "    </tr>\n",
              "    <tr>\n",
              "      <th>2</th>\n",
              "      <td>2</td>\n",
              "      <td>October to December</td>\n",
              "      <td>2</td>\n",
              "      <td>0</td>\n",
              "      <td>330.775000</td>\n",
              "      <td>Male</td>\n",
              "      <td>October</td>\n",
              "      <td>Northern Ireland</td>\n",
              "      <td>2014</td>\n",
              "      <td>271.925</td>\n",
              "      <td>54</td>\n",
              "      <td>11.780167</td>\n",
              "      <td>2.088667</td>\n",
              "      <td>17.032166</td>\n",
              "      <td>93.838333</td>\n",
              "      <td>28.491667</td>\n",
              "      <td>42.813335</td>\n",
              "      <td>7.965790</td>\n",
              "      <td>13.641079</td>\n",
              "      <td>2.513675</td>\n",
              "    </tr>\n",
              "    <tr>\n",
              "      <th>3</th>\n",
              "      <td>2</td>\n",
              "      <td>April to June</td>\n",
              "      <td>2</td>\n",
              "      <td>0</td>\n",
              "      <td>536.742283</td>\n",
              "      <td>Male</td>\n",
              "      <td>June</td>\n",
              "      <td>North West and Merseyside</td>\n",
              "      <td>2014</td>\n",
              "      <td>611.490</td>\n",
              "      <td>64</td>\n",
              "      <td>2.745167</td>\n",
              "      <td>NaN</td>\n",
              "      <td>4.008333</td>\n",
              "      <td>16.856667</td>\n",
              "      <td>NaN</td>\n",
              "      <td>5.416667</td>\n",
              "      <td>6.140490</td>\n",
              "      <td>NaN</td>\n",
              "      <td>1.351351</td>\n",
              "    </tr>\n",
              "    <tr>\n",
              "      <th>4</th>\n",
              "      <td>3</td>\n",
              "      <td>April to June</td>\n",
              "      <td>3</td>\n",
              "      <td>0</td>\n",
              "      <td>880.787157</td>\n",
              "      <td>Male</td>\n",
              "      <td>April</td>\n",
              "      <td>East Midlands</td>\n",
              "      <td>2014</td>\n",
              "      <td>496.040</td>\n",
              "      <td>64</td>\n",
              "      <td>12.857000</td>\n",
              "      <td>2.903333</td>\n",
              "      <td>7.345000</td>\n",
              "      <td>73.623337</td>\n",
              "      <td>16.921667</td>\n",
              "      <td>19.261665</td>\n",
              "      <td>5.726323</td>\n",
              "      <td>5.828358</td>\n",
              "      <td>2.622419</td>\n",
              "    </tr>\n",
              "  </tbody>\n",
              "</table>\n",
              "</div>\n",
              "      <button class=\"colab-df-convert\" onclick=\"convertToInteractive('df-29bc4f02-813e-4333-91de-772c5c754620')\"\n",
              "              title=\"Convert this dataframe to an interactive table.\"\n",
              "              style=\"display:none;\">\n",
              "        \n",
              "  <svg xmlns=\"http://www.w3.org/2000/svg\" height=\"24px\"viewBox=\"0 0 24 24\"\n",
              "       width=\"24px\">\n",
              "    <path d=\"M0 0h24v24H0V0z\" fill=\"none\"/>\n",
              "    <path d=\"M18.56 5.44l.94 2.06.94-2.06 2.06-.94-2.06-.94-.94-2.06-.94 2.06-2.06.94zm-11 1L8.5 8.5l.94-2.06 2.06-.94-2.06-.94L8.5 2.5l-.94 2.06-2.06.94zm10 10l.94 2.06.94-2.06 2.06-.94-2.06-.94-.94-2.06-.94 2.06-2.06.94z\"/><path d=\"M17.41 7.96l-1.37-1.37c-.4-.4-.92-.59-1.43-.59-.52 0-1.04.2-1.43.59L10.3 9.45l-7.72 7.72c-.78.78-.78 2.05 0 2.83L4 21.41c.39.39.9.59 1.41.59.51 0 1.02-.2 1.41-.59l7.78-7.78 2.81-2.81c.8-.78.8-2.07 0-2.86zM5.41 20L4 18.59l7.72-7.72 1.47 1.35L5.41 20z\"/>\n",
              "  </svg>\n",
              "      </button>\n",
              "      \n",
              "  <style>\n",
              "    .colab-df-container {\n",
              "      display:flex;\n",
              "      flex-wrap:wrap;\n",
              "      gap: 12px;\n",
              "    }\n",
              "\n",
              "    .colab-df-convert {\n",
              "      background-color: #E8F0FE;\n",
              "      border: none;\n",
              "      border-radius: 50%;\n",
              "      cursor: pointer;\n",
              "      display: none;\n",
              "      fill: #1967D2;\n",
              "      height: 32px;\n",
              "      padding: 0 0 0 0;\n",
              "      width: 32px;\n",
              "    }\n",
              "\n",
              "    .colab-df-convert:hover {\n",
              "      background-color: #E2EBFA;\n",
              "      box-shadow: 0px 1px 2px rgba(60, 64, 67, 0.3), 0px 1px 3px 1px rgba(60, 64, 67, 0.15);\n",
              "      fill: #174EA6;\n",
              "    }\n",
              "\n",
              "    [theme=dark] .colab-df-convert {\n",
              "      background-color: #3B4455;\n",
              "      fill: #D2E3FC;\n",
              "    }\n",
              "\n",
              "    [theme=dark] .colab-df-convert:hover {\n",
              "      background-color: #434B5C;\n",
              "      box-shadow: 0px 1px 3px 1px rgba(0, 0, 0, 0.15);\n",
              "      filter: drop-shadow(0px 1px 2px rgba(0, 0, 0, 0.3));\n",
              "      fill: #FFFFFF;\n",
              "    }\n",
              "  </style>\n",
              "\n",
              "      <script>\n",
              "        const buttonEl =\n",
              "          document.querySelector('#df-29bc4f02-813e-4333-91de-772c5c754620 button.colab-df-convert');\n",
              "        buttonEl.style.display =\n",
              "          google.colab.kernel.accessAllowed ? 'block' : 'none';\n",
              "\n",
              "        async function convertToInteractive(key) {\n",
              "          const element = document.querySelector('#df-29bc4f02-813e-4333-91de-772c5c754620');\n",
              "          const dataTable =\n",
              "            await google.colab.kernel.invokeFunction('convertToInteractive',\n",
              "                                                     [key], {});\n",
              "          if (!dataTable) return;\n",
              "\n",
              "          const docLinkHtml = 'Like what you see? Visit the ' +\n",
              "            '<a target=\"_blank\" href=https://colab.research.google.com/notebooks/data_table.ipynb>data table notebook</a>'\n",
              "            + ' to learn more about interactive tables.';\n",
              "          element.innerHTML = '';\n",
              "          dataTable['output_type'] = 'display_data';\n",
              "          await google.colab.output.renderOutput(dataTable, element);\n",
              "          const docLink = document.createElement('div');\n",
              "          docLink.innerHTML = docLinkHtml;\n",
              "          element.appendChild(docLink);\n",
              "        }\n",
              "      </script>\n",
              "    </div>\n",
              "  </div>\n",
              "  "
            ]
          },
          "metadata": {},
          "execution_count": 6
        }
      ],
      "source": [
        "df0.head()"
      ]
    },
    {
      "cell_type": "markdown",
      "metadata": {
        "id": "nfdBuDOcCrym"
      },
      "source": [
        "##### Show the number of rows with nulls\n",
        "\n",
        "It is computed subtracting the number of rows in the dataset without nulls from the original number of rows"
      ]
    },
    {
      "cell_type": "code",
      "execution_count": null,
      "metadata": {
        "colab": {
          "base_uri": "https://localhost:8080/"
        },
        "id": "6CdsZe0ACrym",
        "outputId": "5b109ee6-f5fe-4b90-fae4-f9788660fd04"
      },
      "outputs": [
        {
          "output_type": "stream",
          "name": "stdout",
          "text": [
            "Rows with nulls: 1668\n"
          ]
        }
      ],
      "source": [
        "df = df0.dropna()\n",
        "print(\"Rows with nulls:\", df0.shape[0] - df.shape[0])"
      ]
    },
    {
      "cell_type": "markdown",
      "metadata": {
        "id": "Wk9RxzdECryo"
      },
      "source": [
        "#### Drop rows with nulls"
      ]
    },
    {
      "cell_type": "code",
      "execution_count": null,
      "metadata": {
        "colab": {
          "base_uri": "https://localhost:8080/"
        },
        "id": "u4OSTZiJCryo",
        "outputId": "0fc2a881-8869-4175-f2aa-9ca4c261623e"
      },
      "outputs": [
        {
          "output_type": "stream",
          "name": "stdout",
          "text": [
            "After dropping rows with nulls the dataset has 3446 rows\n"
          ]
        }
      ],
      "source": [
        "print(\"After dropping rows with nulls the dataset has\", df.shape[0], \"rows\")"
      ]
    },
    {
      "cell_type": "markdown",
      "metadata": {
        "id": "L7qSDGJCCryo"
      },
      "source": [
        "##### Data transormation\n",
        "- Convert the alphanumeric SexHRP into numeric 0 and 1\n",
        "    - the `sklearn` machine learning procedures work only with numeric predicting\n",
        "      attributes\n",
        "- Generate two new columns as ratio of other columns\n",
        "    - this is suggested by background information"
      ]
    },
    {
      "cell_type": "code",
      "execution_count": null,
      "metadata": {
        "colab": {
          "base_uri": "https://localhost:8080/",
          "height": 717
        },
        "id": "imJyow-YCryp",
        "outputId": "5a4451b5-ce0d-40b5-98be-536667234540"
      },
      "outputs": [
        {
          "output_type": "stream",
          "name": "stderr",
          "text": [
            "<ipython-input-9-6603987b4997>:2: SettingWithCopyWarning: \n",
            "A value is trying to be set on a copy of a slice from a DataFrame.\n",
            "Try using .loc[row_indexer,col_indexer] = value instead\n",
            "\n",
            "See the caveats in the documentation: https://pandas.pydata.org/pandas-docs/stable/user_guide/indexing.html#returning-a-view-versus-a-copy\n",
            "  df['SexHRP'] = df['SexHRP'].map(rep).fillna(df['SexHRP'])\n",
            "<ipython-input-9-6603987b4997>:3: SettingWithCopyWarning: \n",
            "A value is trying to be set on a copy of a slice from a DataFrame.\n",
            "Try using .loc[row_indexer,col_indexer] = value instead\n",
            "\n",
            "See the caveats in the documentation: https://pandas.pydata.org/pandas-docs/stable/user_guide/indexing.html#returning-a-view-versus-a-copy\n",
            "  df['qmeat_hhsize_ratio'] = df['qmeat'] / df['hhsize']\n",
            "<ipython-input-9-6603987b4997>:4: SettingWithCopyWarning: \n",
            "A value is trying to be set on a copy of a slice from a DataFrame.\n",
            "Try using .loc[row_indexer,col_indexer] = value instead\n",
            "\n",
            "See the caveats in the documentation: https://pandas.pydata.org/pandas-docs/stable/user_guide/indexing.html#returning-a-view-versus-a-copy\n",
            "  df['income_hhsize_ratio'] = df['income'] / df['hhsize']\n"
          ]
        },
        {
          "output_type": "execute_result",
          "data": {
            "text/plain": [
              "   hhsize              quarter  adults_n  children_n    totalexp  SexHRP  \\\n",
              "1       4    July to September         2           2  737.685635       1   \n",
              "2       2  October to December         2           0  330.775000       1   \n",
              "4       3        April to June         3           0  880.787157       1   \n",
              "5       4     January to March         2           2  372.275578       1   \n",
              "7       3     January to March         3           0  151.750522       1   \n",
              "\n",
              "      month              Gorx  Year   income  ...     qfish        qfv  \\\n",
              "1    August        North East  2014  824.520  ...  0.650000  30.203335   \n",
              "2   October  Northern Ireland  2014  271.925  ...  2.088667  17.032166   \n",
              "4     April     East Midlands  2014  496.040  ...  2.903333   7.345000   \n",
              "5  February             Wales  2014  266.530  ...  1.789667  27.378000   \n",
              "7   January           Eastern  2014  403.180  ...  3.003000   6.742667   \n",
              "\n",
              "        xmeat      xfish        xfv    uvmeat     uvfish      uvfv  \\\n",
              "1   53.278336   6.500000  62.833336  8.813621  10.000000  2.080344   \n",
              "2   93.838333  28.491667  42.813335  7.965790  13.641079  2.513675   \n",
              "4   73.623337  16.921667  19.261665  5.726323   5.828358  2.622419   \n",
              "5  303.181671  28.773333  86.558327  8.451528  16.077482  3.161602   \n",
              "7   72.258331  26.000000  17.376667  5.904745   8.658009  2.577121   \n",
              "\n",
              "   qmeat_hhsize_ratio  income_hhsize_ratio  \n",
              "1            1.511250           206.130000  \n",
              "2            5.890083           135.962500  \n",
              "4            4.285667           165.346667  \n",
              "5            8.968250            66.632500  \n",
              "7            4.079111           134.393333  \n",
              "\n",
              "[5 rows x 22 columns]"
            ],
            "text/html": [
              "\n",
              "  <div id=\"df-bf94034a-f599-4793-b6d7-f056770c96f9\">\n",
              "    <div class=\"colab-df-container\">\n",
              "      <div>\n",
              "<style scoped>\n",
              "    .dataframe tbody tr th:only-of-type {\n",
              "        vertical-align: middle;\n",
              "    }\n",
              "\n",
              "    .dataframe tbody tr th {\n",
              "        vertical-align: top;\n",
              "    }\n",
              "\n",
              "    .dataframe thead th {\n",
              "        text-align: right;\n",
              "    }\n",
              "</style>\n",
              "<table border=\"1\" class=\"dataframe\">\n",
              "  <thead>\n",
              "    <tr style=\"text-align: right;\">\n",
              "      <th></th>\n",
              "      <th>hhsize</th>\n",
              "      <th>quarter</th>\n",
              "      <th>adults_n</th>\n",
              "      <th>children_n</th>\n",
              "      <th>totalexp</th>\n",
              "      <th>SexHRP</th>\n",
              "      <th>month</th>\n",
              "      <th>Gorx</th>\n",
              "      <th>Year</th>\n",
              "      <th>income</th>\n",
              "      <th>...</th>\n",
              "      <th>qfish</th>\n",
              "      <th>qfv</th>\n",
              "      <th>xmeat</th>\n",
              "      <th>xfish</th>\n",
              "      <th>xfv</th>\n",
              "      <th>uvmeat</th>\n",
              "      <th>uvfish</th>\n",
              "      <th>uvfv</th>\n",
              "      <th>qmeat_hhsize_ratio</th>\n",
              "      <th>income_hhsize_ratio</th>\n",
              "    </tr>\n",
              "  </thead>\n",
              "  <tbody>\n",
              "    <tr>\n",
              "      <th>1</th>\n",
              "      <td>4</td>\n",
              "      <td>July to September</td>\n",
              "      <td>2</td>\n",
              "      <td>2</td>\n",
              "      <td>737.685635</td>\n",
              "      <td>1</td>\n",
              "      <td>August</td>\n",
              "      <td>North East</td>\n",
              "      <td>2014</td>\n",
              "      <td>824.520</td>\n",
              "      <td>...</td>\n",
              "      <td>0.650000</td>\n",
              "      <td>30.203335</td>\n",
              "      <td>53.278336</td>\n",
              "      <td>6.500000</td>\n",
              "      <td>62.833336</td>\n",
              "      <td>8.813621</td>\n",
              "      <td>10.000000</td>\n",
              "      <td>2.080344</td>\n",
              "      <td>1.511250</td>\n",
              "      <td>206.130000</td>\n",
              "    </tr>\n",
              "    <tr>\n",
              "      <th>2</th>\n",
              "      <td>2</td>\n",
              "      <td>October to December</td>\n",
              "      <td>2</td>\n",
              "      <td>0</td>\n",
              "      <td>330.775000</td>\n",
              "      <td>1</td>\n",
              "      <td>October</td>\n",
              "      <td>Northern Ireland</td>\n",
              "      <td>2014</td>\n",
              "      <td>271.925</td>\n",
              "      <td>...</td>\n",
              "      <td>2.088667</td>\n",
              "      <td>17.032166</td>\n",
              "      <td>93.838333</td>\n",
              "      <td>28.491667</td>\n",
              "      <td>42.813335</td>\n",
              "      <td>7.965790</td>\n",
              "      <td>13.641079</td>\n",
              "      <td>2.513675</td>\n",
              "      <td>5.890083</td>\n",
              "      <td>135.962500</td>\n",
              "    </tr>\n",
              "    <tr>\n",
              "      <th>4</th>\n",
              "      <td>3</td>\n",
              "      <td>April to June</td>\n",
              "      <td>3</td>\n",
              "      <td>0</td>\n",
              "      <td>880.787157</td>\n",
              "      <td>1</td>\n",
              "      <td>April</td>\n",
              "      <td>East Midlands</td>\n",
              "      <td>2014</td>\n",
              "      <td>496.040</td>\n",
              "      <td>...</td>\n",
              "      <td>2.903333</td>\n",
              "      <td>7.345000</td>\n",
              "      <td>73.623337</td>\n",
              "      <td>16.921667</td>\n",
              "      <td>19.261665</td>\n",
              "      <td>5.726323</td>\n",
              "      <td>5.828358</td>\n",
              "      <td>2.622419</td>\n",
              "      <td>4.285667</td>\n",
              "      <td>165.346667</td>\n",
              "    </tr>\n",
              "    <tr>\n",
              "      <th>5</th>\n",
              "      <td>4</td>\n",
              "      <td>January to March</td>\n",
              "      <td>2</td>\n",
              "      <td>2</td>\n",
              "      <td>372.275578</td>\n",
              "      <td>1</td>\n",
              "      <td>February</td>\n",
              "      <td>Wales</td>\n",
              "      <td>2014</td>\n",
              "      <td>266.530</td>\n",
              "      <td>...</td>\n",
              "      <td>1.789667</td>\n",
              "      <td>27.378000</td>\n",
              "      <td>303.181671</td>\n",
              "      <td>28.773333</td>\n",
              "      <td>86.558327</td>\n",
              "      <td>8.451528</td>\n",
              "      <td>16.077482</td>\n",
              "      <td>3.161602</td>\n",
              "      <td>8.968250</td>\n",
              "      <td>66.632500</td>\n",
              "    </tr>\n",
              "    <tr>\n",
              "      <th>7</th>\n",
              "      <td>3</td>\n",
              "      <td>January to March</td>\n",
              "      <td>3</td>\n",
              "      <td>0</td>\n",
              "      <td>151.750522</td>\n",
              "      <td>1</td>\n",
              "      <td>January</td>\n",
              "      <td>Eastern</td>\n",
              "      <td>2014</td>\n",
              "      <td>403.180</td>\n",
              "      <td>...</td>\n",
              "      <td>3.003000</td>\n",
              "      <td>6.742667</td>\n",
              "      <td>72.258331</td>\n",
              "      <td>26.000000</td>\n",
              "      <td>17.376667</td>\n",
              "      <td>5.904745</td>\n",
              "      <td>8.658009</td>\n",
              "      <td>2.577121</td>\n",
              "      <td>4.079111</td>\n",
              "      <td>134.393333</td>\n",
              "    </tr>\n",
              "  </tbody>\n",
              "</table>\n",
              "<p>5 rows × 22 columns</p>\n",
              "</div>\n",
              "      <button class=\"colab-df-convert\" onclick=\"convertToInteractive('df-bf94034a-f599-4793-b6d7-f056770c96f9')\"\n",
              "              title=\"Convert this dataframe to an interactive table.\"\n",
              "              style=\"display:none;\">\n",
              "        \n",
              "  <svg xmlns=\"http://www.w3.org/2000/svg\" height=\"24px\"viewBox=\"0 0 24 24\"\n",
              "       width=\"24px\">\n",
              "    <path d=\"M0 0h24v24H0V0z\" fill=\"none\"/>\n",
              "    <path d=\"M18.56 5.44l.94 2.06.94-2.06 2.06-.94-2.06-.94-.94-2.06-.94 2.06-2.06.94zm-11 1L8.5 8.5l.94-2.06 2.06-.94-2.06-.94L8.5 2.5l-.94 2.06-2.06.94zm10 10l.94 2.06.94-2.06 2.06-.94-2.06-.94-.94-2.06-.94 2.06-2.06.94z\"/><path d=\"M17.41 7.96l-1.37-1.37c-.4-.4-.92-.59-1.43-.59-.52 0-1.04.2-1.43.59L10.3 9.45l-7.72 7.72c-.78.78-.78 2.05 0 2.83L4 21.41c.39.39.9.59 1.41.59.51 0 1.02-.2 1.41-.59l7.78-7.78 2.81-2.81c.8-.78.8-2.07 0-2.86zM5.41 20L4 18.59l7.72-7.72 1.47 1.35L5.41 20z\"/>\n",
              "  </svg>\n",
              "      </button>\n",
              "      \n",
              "  <style>\n",
              "    .colab-df-container {\n",
              "      display:flex;\n",
              "      flex-wrap:wrap;\n",
              "      gap: 12px;\n",
              "    }\n",
              "\n",
              "    .colab-df-convert {\n",
              "      background-color: #E8F0FE;\n",
              "      border: none;\n",
              "      border-radius: 50%;\n",
              "      cursor: pointer;\n",
              "      display: none;\n",
              "      fill: #1967D2;\n",
              "      height: 32px;\n",
              "      padding: 0 0 0 0;\n",
              "      width: 32px;\n",
              "    }\n",
              "\n",
              "    .colab-df-convert:hover {\n",
              "      background-color: #E2EBFA;\n",
              "      box-shadow: 0px 1px 2px rgba(60, 64, 67, 0.3), 0px 1px 3px 1px rgba(60, 64, 67, 0.15);\n",
              "      fill: #174EA6;\n",
              "    }\n",
              "\n",
              "    [theme=dark] .colab-df-convert {\n",
              "      background-color: #3B4455;\n",
              "      fill: #D2E3FC;\n",
              "    }\n",
              "\n",
              "    [theme=dark] .colab-df-convert:hover {\n",
              "      background-color: #434B5C;\n",
              "      box-shadow: 0px 1px 3px 1px rgba(0, 0, 0, 0.15);\n",
              "      filter: drop-shadow(0px 1px 2px rgba(0, 0, 0, 0.3));\n",
              "      fill: #FFFFFF;\n",
              "    }\n",
              "  </style>\n",
              "\n",
              "      <script>\n",
              "        const buttonEl =\n",
              "          document.querySelector('#df-bf94034a-f599-4793-b6d7-f056770c96f9 button.colab-df-convert');\n",
              "        buttonEl.style.display =\n",
              "          google.colab.kernel.accessAllowed ? 'block' : 'none';\n",
              "\n",
              "        async function convertToInteractive(key) {\n",
              "          const element = document.querySelector('#df-bf94034a-f599-4793-b6d7-f056770c96f9');\n",
              "          const dataTable =\n",
              "            await google.colab.kernel.invokeFunction('convertToInteractive',\n",
              "                                                     [key], {});\n",
              "          if (!dataTable) return;\n",
              "\n",
              "          const docLinkHtml = 'Like what you see? Visit the ' +\n",
              "            '<a target=\"_blank\" href=https://colab.research.google.com/notebooks/data_table.ipynb>data table notebook</a>'\n",
              "            + ' to learn more about interactive tables.';\n",
              "          element.innerHTML = '';\n",
              "          dataTable['output_type'] = 'display_data';\n",
              "          await google.colab.output.renderOutput(dataTable, element);\n",
              "          const docLink = document.createElement('div');\n",
              "          docLink.innerHTML = docLinkHtml;\n",
              "          element.appendChild(docLink);\n",
              "        }\n",
              "      </script>\n",
              "    </div>\n",
              "  </div>\n",
              "  "
            ]
          },
          "metadata": {},
          "execution_count": 9
        }
      ],
      "source": [
        "rep = {'Female': 0, 'Male': 1}\n",
        "df['SexHRP'] = df['SexHRP'].map(rep).fillna(df['SexHRP'])\n",
        "df['qmeat_hhsize_ratio'] = df['qmeat'] / df['hhsize']\n",
        "df['income_hhsize_ratio'] = df['income'] / df['hhsize']\n",
        "\n",
        "#df = df.drop(columns=['quarter', 'totalexp', 'Year', 'hhsize', 'month', 'Gorx', 'income', 'qmeat', 'qfish', 'qfv', 'xmeat', 'xfish', 'xfv', 'uvfish', 'uvfv'])\n",
        "df.head()"
      ]
    },
    {
      "cell_type": "markdown",
      "metadata": {
        "id": "b9iCyE_nCryp"
      },
      "source": [
        "##### Use only the columns that the experts consider interesting\n",
        "This is suggested by background information"
      ]
    },
    {
      "cell_type": "code",
      "execution_count": null,
      "metadata": {
        "colab": {
          "base_uri": "https://localhost:8080/",
          "height": 206
        },
        "id": "8A-7R7aGCryq",
        "outputId": "2dcde315-0885-4364-f089-322d585aabaa"
      },
      "outputs": [
        {
          "output_type": "execute_result",
          "data": {
            "text/plain": [
              "   adults_n  children_n  SexHRP  AgeHRP    uvmeat  qmeat_hhsize_ratio  \\\n",
              "1         2           2       1      38  8.813621            1.511250   \n",
              "2         2           0       1      54  7.965790            5.890083   \n",
              "4         3           0       1      64  5.726323            4.285667   \n",
              "5         2           2       1      70  8.451528            8.968250   \n",
              "7         3           0       1      64  5.904745            4.079111   \n",
              "\n",
              "   income_hhsize_ratio  \n",
              "1           206.130000  \n",
              "2           135.962500  \n",
              "4           165.346667  \n",
              "5            66.632500  \n",
              "7           134.393333  "
            ],
            "text/html": [
              "\n",
              "  <div id=\"df-a800dd89-96f2-4194-80b9-01537d65b629\">\n",
              "    <div class=\"colab-df-container\">\n",
              "      <div>\n",
              "<style scoped>\n",
              "    .dataframe tbody tr th:only-of-type {\n",
              "        vertical-align: middle;\n",
              "    }\n",
              "\n",
              "    .dataframe tbody tr th {\n",
              "        vertical-align: top;\n",
              "    }\n",
              "\n",
              "    .dataframe thead th {\n",
              "        text-align: right;\n",
              "    }\n",
              "</style>\n",
              "<table border=\"1\" class=\"dataframe\">\n",
              "  <thead>\n",
              "    <tr style=\"text-align: right;\">\n",
              "      <th></th>\n",
              "      <th>adults_n</th>\n",
              "      <th>children_n</th>\n",
              "      <th>SexHRP</th>\n",
              "      <th>AgeHRP</th>\n",
              "      <th>uvmeat</th>\n",
              "      <th>qmeat_hhsize_ratio</th>\n",
              "      <th>income_hhsize_ratio</th>\n",
              "    </tr>\n",
              "  </thead>\n",
              "  <tbody>\n",
              "    <tr>\n",
              "      <th>1</th>\n",
              "      <td>2</td>\n",
              "      <td>2</td>\n",
              "      <td>1</td>\n",
              "      <td>38</td>\n",
              "      <td>8.813621</td>\n",
              "      <td>1.511250</td>\n",
              "      <td>206.130000</td>\n",
              "    </tr>\n",
              "    <tr>\n",
              "      <th>2</th>\n",
              "      <td>2</td>\n",
              "      <td>0</td>\n",
              "      <td>1</td>\n",
              "      <td>54</td>\n",
              "      <td>7.965790</td>\n",
              "      <td>5.890083</td>\n",
              "      <td>135.962500</td>\n",
              "    </tr>\n",
              "    <tr>\n",
              "      <th>4</th>\n",
              "      <td>3</td>\n",
              "      <td>0</td>\n",
              "      <td>1</td>\n",
              "      <td>64</td>\n",
              "      <td>5.726323</td>\n",
              "      <td>4.285667</td>\n",
              "      <td>165.346667</td>\n",
              "    </tr>\n",
              "    <tr>\n",
              "      <th>5</th>\n",
              "      <td>2</td>\n",
              "      <td>2</td>\n",
              "      <td>1</td>\n",
              "      <td>70</td>\n",
              "      <td>8.451528</td>\n",
              "      <td>8.968250</td>\n",
              "      <td>66.632500</td>\n",
              "    </tr>\n",
              "    <tr>\n",
              "      <th>7</th>\n",
              "      <td>3</td>\n",
              "      <td>0</td>\n",
              "      <td>1</td>\n",
              "      <td>64</td>\n",
              "      <td>5.904745</td>\n",
              "      <td>4.079111</td>\n",
              "      <td>134.393333</td>\n",
              "    </tr>\n",
              "  </tbody>\n",
              "</table>\n",
              "</div>\n",
              "      <button class=\"colab-df-convert\" onclick=\"convertToInteractive('df-a800dd89-96f2-4194-80b9-01537d65b629')\"\n",
              "              title=\"Convert this dataframe to an interactive table.\"\n",
              "              style=\"display:none;\">\n",
              "        \n",
              "  <svg xmlns=\"http://www.w3.org/2000/svg\" height=\"24px\"viewBox=\"0 0 24 24\"\n",
              "       width=\"24px\">\n",
              "    <path d=\"M0 0h24v24H0V0z\" fill=\"none\"/>\n",
              "    <path d=\"M18.56 5.44l.94 2.06.94-2.06 2.06-.94-2.06-.94-.94-2.06-.94 2.06-2.06.94zm-11 1L8.5 8.5l.94-2.06 2.06-.94-2.06-.94L8.5 2.5l-.94 2.06-2.06.94zm10 10l.94 2.06.94-2.06 2.06-.94-2.06-.94-.94-2.06-.94 2.06-2.06.94z\"/><path d=\"M17.41 7.96l-1.37-1.37c-.4-.4-.92-.59-1.43-.59-.52 0-1.04.2-1.43.59L10.3 9.45l-7.72 7.72c-.78.78-.78 2.05 0 2.83L4 21.41c.39.39.9.59 1.41.59.51 0 1.02-.2 1.41-.59l7.78-7.78 2.81-2.81c.8-.78.8-2.07 0-2.86zM5.41 20L4 18.59l7.72-7.72 1.47 1.35L5.41 20z\"/>\n",
              "  </svg>\n",
              "      </button>\n",
              "      \n",
              "  <style>\n",
              "    .colab-df-container {\n",
              "      display:flex;\n",
              "      flex-wrap:wrap;\n",
              "      gap: 12px;\n",
              "    }\n",
              "\n",
              "    .colab-df-convert {\n",
              "      background-color: #E8F0FE;\n",
              "      border: none;\n",
              "      border-radius: 50%;\n",
              "      cursor: pointer;\n",
              "      display: none;\n",
              "      fill: #1967D2;\n",
              "      height: 32px;\n",
              "      padding: 0 0 0 0;\n",
              "      width: 32px;\n",
              "    }\n",
              "\n",
              "    .colab-df-convert:hover {\n",
              "      background-color: #E2EBFA;\n",
              "      box-shadow: 0px 1px 2px rgba(60, 64, 67, 0.3), 0px 1px 3px 1px rgba(60, 64, 67, 0.15);\n",
              "      fill: #174EA6;\n",
              "    }\n",
              "\n",
              "    [theme=dark] .colab-df-convert {\n",
              "      background-color: #3B4455;\n",
              "      fill: #D2E3FC;\n",
              "    }\n",
              "\n",
              "    [theme=dark] .colab-df-convert:hover {\n",
              "      background-color: #434B5C;\n",
              "      box-shadow: 0px 1px 3px 1px rgba(0, 0, 0, 0.15);\n",
              "      filter: drop-shadow(0px 1px 2px rgba(0, 0, 0, 0.3));\n",
              "      fill: #FFFFFF;\n",
              "    }\n",
              "  </style>\n",
              "\n",
              "      <script>\n",
              "        const buttonEl =\n",
              "          document.querySelector('#df-a800dd89-96f2-4194-80b9-01537d65b629 button.colab-df-convert');\n",
              "        buttonEl.style.display =\n",
              "          google.colab.kernel.accessAllowed ? 'block' : 'none';\n",
              "\n",
              "        async function convertToInteractive(key) {\n",
              "          const element = document.querySelector('#df-a800dd89-96f2-4194-80b9-01537d65b629');\n",
              "          const dataTable =\n",
              "            await google.colab.kernel.invokeFunction('convertToInteractive',\n",
              "                                                     [key], {});\n",
              "          if (!dataTable) return;\n",
              "\n",
              "          const docLinkHtml = 'Like what you see? Visit the ' +\n",
              "            '<a target=\"_blank\" href=https://colab.research.google.com/notebooks/data_table.ipynb>data table notebook</a>'\n",
              "            + ' to learn more about interactive tables.';\n",
              "          element.innerHTML = '';\n",
              "          dataTable['output_type'] = 'display_data';\n",
              "          await google.colab.output.renderOutput(dataTable, element);\n",
              "          const docLink = document.createElement('div');\n",
              "          docLink.innerHTML = docLinkHtml;\n",
              "          element.appendChild(docLink);\n",
              "        }\n",
              "      </script>\n",
              "    </div>\n",
              "  </div>\n",
              "  "
            ]
          },
          "metadata": {},
          "execution_count": 10
        }
      ],
      "source": [
        "df = df.drop(columns=['quarter', 'totalexp', 'Year', 'hhsize', 'month', 'Gorx', 'income', 'qmeat', 'qfish', 'qfv', 'xmeat', 'xfish', 'xfv', 'uvfish', 'uvfv'])\n",
        "df.head()"
      ]
    },
    {
      "cell_type": "markdown",
      "metadata": {
        "id": "BQXY2g_VCryr"
      },
      "source": [
        "## Choose the target and split the data into *predicting variables* `X` and *target* `y`"
      ]
    },
    {
      "cell_type": "code",
      "execution_count": null,
      "metadata": {
        "id": "zXar-uk-Cryr"
      },
      "outputs": [],
      "source": [
        "target_name = 'qmeat_hhsize_ratio'\n",
        "X = df.drop(columns=[target_name])\n",
        "y = df[target_name]"
      ]
    },
    {
      "cell_type": "markdown",
      "metadata": {
        "id": "6KY2N2Y8Cryr"
      },
      "source": [
        "## Show the two dimensional scatter plots for all the predicting variables with respect to the target"
      ]
    },
    {
      "cell_type": "code",
      "execution_count": null,
      "metadata": {
        "id": "sIumKC4lCryr"
      },
      "outputs": [],
      "source": [
        "ncols=3\n",
        "import math\n",
        "nrows = math.ceil((df.shape[1]-1)/ncols)\n",
        "figwidth = ncols * 7\n",
        "figheigth = nrows*5"
      ]
    },
    {
      "cell_type": "code",
      "execution_count": null,
      "metadata": {
        "colab": {
          "base_uri": "https://localhost:8080/",
          "height": 1000
        },
        "id": "_fH38nORCryr",
        "outputId": "9ac5b28f-face-4fe3-a27f-c52033bb674f"
      },
      "outputs": [
        {
          "output_type": "stream",
          "name": "stdout",
          "text": [
            "['adults_n', 'children_n', 'SexHRP', 'AgeHRP', 'uvmeat', 'income_hhsize_ratio']\n"
          ]
        },
        {
          "output_type": "display_data",
          "data": {
            "text/plain": [
              "<Figure size 1512x720 with 1 Axes>"
            ],
            "image/png": "[encoded data removed]"
          },
          "metadata": {
            "needs_background": "light"
          }
        },
        {
          "output_type": "display_data",
          "data": {
            "text/plain": [
              "<Figure size 1512x720 with 1 Axes>"
            ],
            "image/png": "[encoded data removed]"
          },
          "metadata": {
            "needs_background": "light"
          }
        },
        {
          "output_type": "display_data",
          "data": {
            "text/plain": [
              "<Figure size 1512x720 with 1 Axes>"
            ],
            "image/png": "[encoded data removed]"
          },
          "metadata": {
            "needs_background": "light"
          }
        },
        {
          "output_type": "display_data",
          "data": {
            "text/plain": [
              "<Figure size 1512x720 with 1 Axes>"
            ],
            "image/png": "[encoded data removed]"
          },
          "metadata": {
            "needs_background": "light"
          }
        },
        {
          "output_type": "display_data",
          "data": {
            "text/plain": [
              "<Figure size 1512x720 with 1 Axes>"
            ],
            "image/png": "[encoded data removed]"
          },
          "metadata": {
            "needs_background": "light"
          }
        },
        {
          "output_type": "display_data",
          "data": {
            "text/plain": [
              "<Figure size 1512x720 with 1 Axes>"
            ],
            "image/png": "[encoded data removed]"
          },
          "metadata": {
            "needs_background": "light"
          }
        }
      ],
      "source": [
        "print(X.columns.values.tolist())\n",
        "for lab in X.columns:\n",
        "  fig, ax = plt.subplots(figsize=(figwidth, figheigth))\n",
        "  ax.scatter(x=X[lab], y=y)\n",
        "  ax.set_ylabel('qmeat_hhsize_ratio', fontsize=10)\n",
        "  ax.set_xlabel(lab, fontsize=10)\n",
        "    \n",
        "  plt.show()"
      ]
    },
    {
      "cell_type": "markdown",
      "metadata": {
        "id": "kw1mxkb9Crys"
      },
      "source": [
        "### Show the *_p-values_* of the target with respect to the variables"
      ]
    },
    {
      "cell_type": "code",
      "execution_count": null,
      "metadata": {
        "colab": {
          "base_uri": "https://localhost:8080/"
        },
        "id": "OJJQYZWMCrys",
        "outputId": "72d6b42b-41fd-4bed-9595-cfa071bec54b"
      },
      "outputs": [
        {
          "output_type": "stream",
          "name": "stdout",
          "text": [
            "              Variable       p-value\n",
            "0             adults_n  1.415945e-05\n",
            "1           children_n  1.077386e-30\n",
            "2               SexHRP  8.429827e-02\n",
            "3               AgeHRP  1.710126e-21\n",
            "4               uvmeat  4.789746e-52\n",
            "5  income_hhsize_ratio  1.211099e-03\n"
          ]
        }
      ],
      "source": [
        "from sklearn.feature_selection import f_regression\n",
        "scores, pvalues = f_regression(X, y)\n",
        "# P-value tells, for each predictor variable, the statistical significance of its relationship with the target variable\n",
        "pval = {'Variable': X.columns.values, 'p-value': pvalues}\n",
        "pdf = pd.DataFrame(pval)\n",
        "print(pdf)\n",
        "# ==> By observing the p-value of each of the variables, we can conclude that the most significant in this regression model is 'SexHRP'"
      ]
    },
    {
      "cell_type": "markdown",
      "metadata": {
        "id": "2XwZV6izCryt"
      },
      "source": [
        "## Split the data into *train* and *test* and show the sizes of the two parts\n",
        "Here we set the `random_state` variable to make the experiment *repeatable*\n"
      ]
    },
    {
      "cell_type": "code",
      "execution_count": null,
      "metadata": {
        "colab": {
          "base_uri": "https://localhost:8080/"
        },
        "id": "YxiSNTKNCryt",
        "outputId": "3eb5360c-b335-4da8-c37f-1c4f895e17d5"
      },
      "outputs": [
        {
          "output_type": "stream",
          "name": "stdout",
          "text": [
            "The train set has 2584 samples\n",
            "The test set has 862 samples\n",
            "Each sample has 6 features\n"
          ]
        }
      ],
      "source": [
        "Xtrain, Xtest, ytrain, ytest = train_test_split(X, y, random_state=random_state)\n",
        "print('The train set has', len(ytrain), 'samples\\nThe test set has', len(ytest), 'samples\\nEach sample has', X.shape[1], 'features')"
      ]
    },
    {
      "cell_type": "markdown",
      "metadata": {
        "id": "Tumzyn2MCryt"
      },
      "source": [
        "### Consider a reduced dataset containing the chosen variable and the target"
      ]
    },
    {
      "cell_type": "code",
      "execution_count": null,
      "metadata": {
        "id": "UoaacX9kCryt"
      },
      "outputs": [],
      "source": [
        "# Choosing adults_n as single predicting variable, dropping all other columns\n",
        "Xtrain_red = Xtrain.drop(columns=[\"children_n\", \"SexHRP\", \"AgeHRP\", \"uvmeat\", \"income_hhsize_ratio\"])\n",
        "Xtest_red = Xtest.drop(columns=[\"children_n\", \"SexHRP\", \"AgeHRP\", \"uvmeat\", \"income_hhsize_ratio\"])"
      ]
    },
    {
      "cell_type": "markdown",
      "metadata": {
        "id": "U-g1OPaZCryt"
      },
      "source": [
        "### Fit the `linear_model` estimator on the training set and predict the target for the test set using the *fitted* estimator"
      ]
    },
    {
      "cell_type": "code",
      "execution_count": null,
      "metadata": {
        "colab": {
          "base_uri": "https://localhost:8080/"
        },
        "id": "Fl5et6rhCryu",
        "outputId": "11c5ac35-919b-49e8-e7f8-8d95c7550a17"
      },
      "outputs": [
        {
          "output_type": "stream",
          "name": "stdout",
          "text": [
            "[5.35521422 4.99459466 4.99459466 4.99459466 4.6339751  4.99459466\n",
            " 4.6339751  4.6339751  4.99459466 4.99459466 4.99459466 4.99459466\n",
            " 5.35521422 4.99459466 4.99459466 4.99459466 4.99459466 4.99459466\n",
            " 4.99459466 4.99459466 4.6339751  4.27335554 4.99459466 4.99459466\n",
            " 4.99459466 5.35521422 4.99459466 4.99459466 5.35521422 4.99459466\n",
            " 4.99459466 4.99459466 4.99459466 5.35521422 4.99459466 4.6339751\n",
            " 4.99459466 4.6339751  4.99459466 4.99459466 4.6339751  4.99459466\n",
            " 4.99459466 4.99459466 5.35521422 4.99459466 4.6339751  5.35521422\n",
            " 4.99459466 4.99459466 5.35521422 4.99459466 4.99459466 4.99459466\n",
            " 4.99459466 4.27335554 5.35521422 4.99459466 4.99459466 5.35521422\n",
            " 4.27335554 4.99459466 5.35521422 4.99459466 4.99459466 5.35521422\n",
            " 4.6339751  4.99459466 5.35521422 4.27335554 5.35521422 4.99459466\n",
            " 4.6339751  4.99459466 4.99459466 4.99459466 4.99459466 4.99459466\n",
            " 5.35521422 5.35521422 5.35521422 5.35521422 4.99459466 4.99459466\n",
            " 4.6339751  5.35521422 4.6339751  5.35521422 5.35521422 4.99459466\n",
            " 4.99459466 4.99459466 5.35521422 5.35521422 5.35521422 4.99459466\n",
            " 4.99459466 5.35521422 4.99459466 4.99459466 3.91273598 4.99459466\n",
            " 4.99459466 4.99459466 4.99459466 4.99459466 4.99459466 4.99459466\n",
            " 5.35521422 4.99459466 4.6339751  4.99459466 4.99459466 4.6339751\n",
            " 4.6339751  4.99459466 4.99459466 4.27335554 5.35521422 4.99459466\n",
            " 4.99459466 4.99459466 4.99459466 4.99459466 4.99459466 4.99459466\n",
            " 4.99459466 4.27335554 4.99459466 4.99459466 4.99459466 4.6339751\n",
            " 5.35521422 4.27335554 4.99459466 4.99459466 4.99459466 5.35521422\n",
            " 5.35521422 5.35521422 4.6339751  4.99459466 4.99459466 4.99459466\n",
            " 4.99459466 4.99459466 4.99459466 5.35521422 4.99459466 4.99459466\n",
            " 4.99459466 4.6339751  4.99459466 4.99459466 5.35521422 4.27335554\n",
            " 4.27335554 4.99459466 4.99459466 4.99459466 4.99459466 4.99459466\n",
            " 5.35521422 4.6339751  4.99459466 4.6339751  5.35521422 4.99459466\n",
            " 4.99459466 4.99459466 4.99459466 4.6339751  4.99459466 4.99459466\n",
            " 4.6339751  5.35521422 5.35521422 4.99459466 3.55211642 5.35521422\n",
            " 5.35521422 4.99459466 5.35521422 4.99459466 4.6339751  5.35521422\n",
            " 5.35521422 3.91273598 5.35521422 4.99459466 4.99459466 5.35521422\n",
            " 4.27335554 4.99459466 4.99459466 4.99459466 4.27335554 4.99459466\n",
            " 4.99459466 4.99459466 4.99459466 4.99459466 4.99459466 4.99459466\n",
            " 4.99459466 4.99459466 5.35521422 5.35521422 5.35521422 5.35521422\n",
            " 5.35521422 4.99459466 4.99459466 5.35521422 4.99459466 5.35521422\n",
            " 5.35521422 4.99459466 5.35521422 3.19149685 4.99459466 4.99459466\n",
            " 5.35521422 4.99459466 4.99459466 4.99459466 5.35521422 4.6339751\n",
            " 4.6339751  4.99459466 4.99459466 5.35521422 4.99459466 4.99459466\n",
            " 4.99459466 4.99459466 4.99459466 4.99459466 4.99459466 4.99459466\n",
            " 5.35521422 4.27335554 4.99459466 4.99459466 4.99459466 4.6339751\n",
            " 5.35521422 4.99459466 4.6339751  4.99459466 4.99459466 4.6339751\n",
            " 4.99459466 4.99459466 4.99459466 5.35521422 4.99459466 5.35521422\n",
            " 4.6339751  4.99459466 4.6339751  5.35521422 4.99459466 4.6339751\n",
            " 4.99459466 4.99459466 4.99459466 4.6339751  5.35521422 4.99459466\n",
            " 4.99459466 4.99459466 5.35521422 4.99459466 5.35521422 5.35521422\n",
            " 4.99459466 5.35521422 3.91273598 4.99459466 5.35521422 4.6339751\n",
            " 4.6339751  3.55211642 5.35521422 4.99459466 5.35521422 4.6339751\n",
            " 4.27335554 4.99459466 4.99459466 5.35521422 5.35521422 5.35521422\n",
            " 4.99459466 4.99459466 4.99459466 4.99459466 5.35521422 4.99459466\n",
            " 5.35521422 5.35521422 4.27335554 4.99459466 4.6339751  4.99459466\n",
            " 4.99459466 4.99459466 5.35521422 4.27335554 4.99459466 5.35521422\n",
            " 4.99459466 4.99459466 4.99459466 4.99459466 4.6339751  4.99459466\n",
            " 5.35521422 5.35521422 4.99459466 4.99459466 4.99459466 5.35521422\n",
            " 4.99459466 4.99459466 4.6339751  4.99459466 4.99459466 4.99459466\n",
            " 4.99459466 4.99459466 4.99459466 5.35521422 5.35521422 4.99459466\n",
            " 4.99459466 4.99459466 4.99459466 4.99459466 5.35521422 4.99459466\n",
            " 4.99459466 4.99459466 4.99459466 4.99459466 4.99459466 4.99459466\n",
            " 4.99459466 4.27335554 4.99459466 4.99459466 5.35521422 4.99459466\n",
            " 5.35521422 4.99459466 5.35521422 4.99459466 4.99459466 5.35521422\n",
            " 4.99459466 5.35521422 4.99459466 4.99459466 4.99459466 4.99459466\n",
            " 4.99459466 4.99459466 5.35521422 4.99459466 5.35521422 4.99459466\n",
            " 4.6339751  5.35521422 4.99459466 4.99459466 5.35521422 5.35521422\n",
            " 4.99459466 4.99459466 5.35521422 4.99459466 4.99459466 4.99459466\n",
            " 4.99459466 4.99459466 5.35521422 4.99459466 5.35521422 4.99459466\n",
            " 4.99459466 4.99459466 5.35521422 4.99459466 4.99459466 4.99459466\n",
            " 4.99459466 4.99459466 4.99459466 5.35521422 5.35521422 4.99459466\n",
            " 4.99459466 5.35521422 4.99459466 4.99459466 5.35521422 4.99459466\n",
            " 4.6339751  5.35521422 4.99459466 4.99459466 4.99459466 4.99459466\n",
            " 4.6339751  4.99459466 4.99459466 4.6339751  4.99459466 4.99459466\n",
            " 4.99459466 5.35521422 5.35521422 4.99459466 4.99459466 4.99459466\n",
            " 4.99459466 4.99459466 5.35521422 5.35521422 4.99459466 4.27335554\n",
            " 4.99459466 5.35521422 4.99459466 4.99459466 4.99459466 4.99459466\n",
            " 4.99459466 4.99459466 4.99459466 4.99459466 5.35521422 4.99459466\n",
            " 4.99459466 4.99459466 5.35521422 4.99459466 4.99459466 4.99459466\n",
            " 4.6339751  4.99459466 4.99459466 5.35521422 4.99459466 4.99459466\n",
            " 4.99459466 4.99459466 4.6339751  4.6339751  4.99459466 4.99459466\n",
            " 5.35521422 4.99459466 4.99459466 4.99459466 4.99459466 4.99459466\n",
            " 4.99459466 4.99459466 4.6339751  4.6339751  4.99459466 4.99459466\n",
            " 4.99459466 4.99459466 4.99459466 4.99459466 4.99459466 4.99459466\n",
            " 4.99459466 5.35521422 4.99459466 4.99459466 4.99459466 4.99459466\n",
            " 5.35521422 4.99459466 4.27335554 4.99459466 4.99459466 4.99459466\n",
            " 4.99459466 4.27335554 5.35521422 4.99459466 3.91273598 4.99459466\n",
            " 4.99459466 4.99459466 5.35521422 5.35521422 4.99459466 4.99459466\n",
            " 5.35521422 4.99459466 5.35521422 5.35521422 4.6339751  4.99459466\n",
            " 4.99459466 4.99459466 4.99459466 5.35521422 4.99459466 4.99459466\n",
            " 4.99459466 4.99459466 5.35521422 4.99459466 4.99459466 4.6339751\n",
            " 4.6339751  4.99459466 4.99459466 4.99459466 4.99459466 4.99459466\n",
            " 4.99459466 5.35521422 4.6339751  4.99459466 4.99459466 5.35521422\n",
            " 4.99459466 4.99459466 4.99459466 4.99459466 4.99459466 4.99459466\n",
            " 4.6339751  4.99459466 4.6339751  4.99459466 5.35521422 5.35521422\n",
            " 4.99459466 4.27335554 4.99459466 4.99459466 4.99459466 4.99459466\n",
            " 4.99459466 4.99459466 4.99459466 4.99459466 4.99459466 4.6339751\n",
            " 4.99459466 4.99459466 4.99459466 5.35521422 4.6339751  4.6339751\n",
            " 4.99459466 5.35521422 4.99459466 5.35521422 4.99459466 4.6339751\n",
            " 4.99459466 4.99459466 4.99459466 5.35521422 4.6339751  5.35521422\n",
            " 4.99459466 4.99459466 5.35521422 5.35521422 4.99459466 4.99459466\n",
            " 4.99459466 4.99459466 5.35521422 5.35521422 4.99459466 5.35521422\n",
            " 5.35521422 5.35521422 4.99459466 4.99459466 4.99459466 4.99459466\n",
            " 4.99459466 4.99459466 5.35521422 4.99459466 5.35521422 5.35521422\n",
            " 4.99459466 4.99459466 5.35521422 5.35521422 4.99459466 5.35521422\n",
            " 4.6339751  4.99459466 4.99459466 4.99459466 4.99459466 4.99459466\n",
            " 4.99459466 4.99459466 4.99459466 4.99459466 5.35521422 4.99459466\n",
            " 5.35521422 4.99459466 4.99459466 4.99459466 4.99459466 4.99459466\n",
            " 4.99459466 4.99459466 4.99459466 3.91273598 4.99459466 5.35521422\n",
            " 4.99459466 4.99459466 4.99459466 4.99459466 4.99459466 3.91273598\n",
            " 4.27335554 4.99459466 4.6339751  4.6339751  4.99459466 5.35521422\n",
            " 4.99459466 4.99459466 4.99459466 5.35521422 4.99459466 5.35521422\n",
            " 5.35521422 4.99459466 4.99459466 4.99459466 4.99459466 5.35521422\n",
            " 4.99459466 5.35521422 4.99459466 4.99459466 4.99459466 5.35521422\n",
            " 5.35521422 4.6339751  5.35521422 4.99459466 4.99459466 5.35521422\n",
            " 4.99459466 4.99459466 5.35521422 4.99459466 4.99459466 4.99459466\n",
            " 4.99459466 4.99459466 4.99459466 4.6339751  4.99459466 5.35521422\n",
            " 4.99459466 5.35521422 4.99459466 5.35521422 4.99459466 5.35521422\n",
            " 4.99459466 4.99459466 4.99459466 4.99459466 4.99459466 5.35521422\n",
            " 4.99459466 4.99459466 5.35521422 4.6339751  5.35521422 5.35521422\n",
            " 4.99459466 4.99459466 4.6339751  5.35521422 4.99459466 4.99459466\n",
            " 5.35521422 4.6339751  4.99459466 4.99459466 4.99459466 5.35521422\n",
            " 5.35521422 4.99459466 4.6339751  5.35521422 5.35521422 4.99459466\n",
            " 5.35521422 4.99459466 4.99459466 4.99459466 4.99459466 5.35521422\n",
            " 5.35521422 4.99459466 5.35521422 4.99459466 4.99459466 4.99459466\n",
            " 5.35521422 4.99459466 5.35521422 4.99459466 4.6339751  4.99459466\n",
            " 5.35521422 4.99459466 5.35521422 4.99459466 4.99459466 4.99459466\n",
            " 4.99459466 4.99459466 4.99459466 5.35521422 4.6339751  4.99459466\n",
            " 4.99459466 4.99459466 5.35521422 4.99459466 4.99459466 4.99459466\n",
            " 4.99459466 4.99459466 4.6339751  4.99459466 4.6339751  5.35521422\n",
            " 4.99459466 4.6339751  4.99459466 5.35521422 4.99459466 5.35521422\n",
            " 4.99459466 5.35521422 5.35521422 5.35521422 5.35521422 4.99459466\n",
            " 4.99459466 4.99459466 4.99459466 4.99459466 4.99459466 4.99459466\n",
            " 4.99459466 4.6339751  4.99459466 4.99459466 4.99459466 4.99459466\n",
            " 5.35521422 4.6339751  4.99459466 4.99459466 4.6339751  4.6339751\n",
            " 4.99459466 4.99459466 4.99459466 4.6339751  4.99459466 4.99459466\n",
            " 5.35521422 4.99459466 4.99459466 5.35521422 4.99459466 4.99459466\n",
            " 4.99459466 4.99459466 4.99459466 5.35521422 4.99459466 4.99459466\n",
            " 5.35521422 4.99459466 4.99459466 4.99459466 5.35521422 4.6339751\n",
            " 4.27335554 4.99459466 5.35521422 4.99459466 4.99459466 5.35521422\n",
            " 5.35521422 4.27335554 4.99459466 4.99459466 5.35521422 4.99459466\n",
            " 5.35521422 4.27335554 5.35521422 4.99459466 4.99459466 5.35521422\n",
            " 4.99459466 5.35521422 3.91273598 4.99459466 4.6339751  4.99459466\n",
            " 5.35521422 4.6339751  4.6339751  4.99459466 4.99459466 4.6339751\n",
            " 4.99459466 4.6339751  4.6339751  4.27335554 4.99459466 4.99459466\n",
            " 4.99459466 4.99459466 4.99459466 3.19149685 4.6339751  4.99459466\n",
            " 4.99459466 4.99459466 4.6339751  5.35521422 5.35521422 4.27335554\n",
            " 4.99459466 5.35521422 4.99459466 4.99459466]\n"
          ]
        }
      ],
      "source": [
        "model = linear_model.LinearRegression()\n",
        "model = model.fit(Xtrain_red, ytrain)\n",
        "ypred = model.predict(Xtest_red)\n",
        "print(ypred)"
      ]
    },
    {
      "cell_type": "markdown",
      "metadata": {
        "id": "Z-fd6vmECryu"
      },
      "source": [
        "#### Compute the regression coefficients and the quality measures\n",
        "Create a function to compute the F-statistic and p-value of the regression model"
      ]
    },
    {
      "cell_type": "code",
      "execution_count": null,
      "metadata": {
        "id": "q5mi-yUHCryu"
      },
      "outputs": [],
      "source": [
        "# Computation of F-statistic and p-value for the regression\n",
        "# http://facweb.cs.depaul.edu/sjost/csc423/documents/f-test-reg.htm\n",
        "\n",
        "# Sources: \n",
        "# - https://stackoverflow.com/a/57239611\n",
        "# - https://stats.stackexchange.com/questions/56881/whats-the-relationship-between-r2-and-f-test\n",
        "# - https://www.statology.org/f-test-python/\n",
        "\n",
        "# First link contains additional quality measures\n",
        "\n",
        "import sklearn.metrics as metrics\n",
        "\n",
        "def regression_results(x_test, y_true, y_pred):\n",
        "\n",
        "    # Regression metrics\n",
        "    explained_variance = metrics.explained_variance_score(y_true, y_pred)\n",
        "    mean_absolute_error = metrics.mean_absolute_error(y_true, y_pred) \n",
        "    mse = metrics.mean_squared_error(y_true, y_pred) \n",
        "    # mean_squared_log_error = metrics.mean_squared_log_error(y_true, y_pred)\n",
        "    median_absolute_error = metrics.median_absolute_error(y_true, y_pred)\n",
        "    r2 = metrics.r2_score(y_true, y_pred)\n",
        "\n",
        "    dfn = x_test.shape[1]       # DOF Numerator = K;           where: K = num of predictors (i.e., num of independent variables)\n",
        "    dfd = len(y_true) - (dfn+1) # DOF Denominator = N - (K+1); where: N = num of samples; K = num of predictors\n",
        "    \n",
        "    #fstat = np.var(x_test, ddof=1)/np.var(y_true, ddof=1)\n",
        "    fstat = (r2/(1-r2))*(dfd/dfn)\n",
        "    p_val = 1 - scipy.stats.f.cdf(fstat, dfn, dfd) # 1 - sm.F(K - 1, N - K).cdf(fstat)\n",
        "\n",
        "    print('RMSE: ', round(np.sqrt(mse),4))\n",
        "    print('r2: ', round(r2,4))\n",
        "    print('F-statistic: ', round(fstat, 4))\n",
        "    print('p-value: ', p_val)#round(p_val,4)) # to avoid rounding very small p-values to 0.0\n",
        "    "
      ]
    },
    {
      "cell_type": "markdown",
      "metadata": {
        "id": "cEsKBnu-Cryu"
      },
      "source": [
        "#### Compute the statistical significance of the model"
      ]
    },
    {
      "cell_type": "code",
      "execution_count": null,
      "metadata": {
        "id": "BaWKnQ6DCryv"
      },
      "outputs": [],
      "source": []
    },
    {
      "cell_type": "markdown",
      "metadata": {
        "id": "0MZyv09LCryv"
      },
      "source": [
        "## Second experiment: compute the regression considering all the predicting variables"
      ]
    },
    {
      "cell_type": "markdown",
      "metadata": {
        "id": "BpwWQHOmCryv"
      },
      "source": [
        "### Now we use the entire data in `X_train` and `X_test` for fitting and predicting"
      ]
    },
    {
      "cell_type": "code",
      "execution_count": null,
      "metadata": {
        "id": "eIBFRWYNCryv",
        "colab": {
          "base_uri": "https://localhost:8080/"
        },
        "outputId": "93b5b5db-058a-4e29-a222-45f1465806aa"
      },
      "outputs": [
        {
          "output_type": "stream",
          "name": "stdout",
          "text": [
            "1931    1.733333\n",
            "1145    4.362584\n",
            "4373    9.279833\n",
            "1504    3.844208\n",
            "4477    5.164250\n",
            "          ...   \n",
            "4292    3.379458\n",
            "3546    4.788333\n",
            "4526    2.426667\n",
            "3260    4.028267\n",
            "2433    3.636750\n",
            "Name: qmeat_hhsize_ratio, Length: 862, dtype: float64 [ 4.07582987  4.38374926  4.40394779  2.0328937   4.91606494  5.19220123\n",
            "  6.09455977  3.54295008  6.99043977  4.41871196  4.01375088  5.12077838\n",
            "  4.30157896  2.99663346  5.69804547  6.23172298  3.15216911  5.43216405\n",
            "  3.31107733  1.63427718  4.75649679  4.38237496  5.80932233  6.65217586\n",
            "  6.16817666  5.11122416  6.58192796  3.56705543  5.67765782  6.31000489\n",
            "  6.30152184  4.54839732  3.94048348  5.41172937  6.00919922  3.60144066\n",
            "  4.79569871  4.15286463  4.6219807   6.19773117  4.65437128  6.04505406\n",
            "  2.27973791  3.74455517  6.47476135  4.10487105  3.93404473  5.45398639\n",
            "  5.80366046  3.61998893  5.62190505  4.7942411  -0.35877623  4.31379734\n",
            "  6.06165651  5.86677195  8.52108905  4.00326704  5.49417761  6.04316528\n",
            "  5.03244785  5.66153515  6.39585793  6.52624917  4.16770716  3.50648533\n",
            "  5.83627977  2.37963036  7.39892778  5.72957325  5.95347741  6.41723253\n",
            "  5.61939143  4.73050726  4.42339785  2.99392643  6.47495735  4.48483146\n",
            "  7.00132822  4.2390746   5.14887324  5.23956804  6.8183582   5.22580363\n",
            "  5.13280389  7.20731051  4.89321779  7.13894397  6.45100594  2.98944171\n",
            "  4.33084825  4.93422219  6.14682478  4.10753509  8.50949651  5.37869281\n",
            "  6.23113168  4.73409575  4.50503137  6.52944838  3.97133832  4.14207014\n",
            "  4.05905138  3.97984816  4.90170051  5.31607883  4.99757073  5.84949831\n",
            "  4.21956057  2.84010035  4.55897517  3.06991469  6.72580731  2.96530705\n",
            "  5.37359266  6.06985112  5.07823644  4.10167163  6.35089753  5.12612492\n",
            "  4.00236404  2.97108468  6.43533634  5.26157169  3.97168958  2.87729773\n",
            "  6.10338618  6.37945354  5.67483977  4.17127907  6.11464195  2.99967972\n",
            "  5.77861122  4.49138606  5.10491437  5.1554364   0.79476887  6.53119166\n",
            "  5.31659467  2.95541339  4.49120488  3.60016538  2.31252663  4.60407264\n",
            "  5.61882637  4.72730999  4.48868704  6.35470253  3.99311895  3.52152554\n",
            "  4.88109371  4.92928171  3.12647063  3.47517666  6.71014771  4.9645915\n",
            "  3.18743817  4.37693564  5.00484283  3.60413852  4.70084034  4.08089193\n",
            "  7.18541082  5.42193721  5.45157511  5.49773652  5.4612637   5.9938775\n",
            "  6.6484642   3.21160845  5.57895927  6.06112385  5.86303586  6.13222629\n",
            "  3.7438372   6.10162392  6.73058321  2.31475591  4.24528157  6.07846175\n",
            "  6.2102381   3.42263025  3.3695849   5.11890885  3.05247409  4.4180311\n",
            "  5.44650804  3.84831096  4.03169904  3.73575129  5.75507741  5.94581291\n",
            "  4.41919935  2.85823336  4.42414131  4.07640502  3.13246561  5.13057644\n",
            "  2.65805419  5.54913465  5.51489557  5.57163786  3.19548822  5.16064906\n",
            "  4.90539025  6.27289045  4.6063491   6.71673889  5.70085117  5.91730956\n",
            "  6.94235707  6.26951709  5.03915613  4.21159124  4.00928941  5.05161623\n",
            "  1.86476754  6.00752217  4.52221214  3.50827488  4.36706929  3.24196089\n",
            "  5.91372288  5.82846106  4.01842466  4.34555885  4.80680966  5.66634574\n",
            "  5.52167205  3.75927017  4.50244299  7.2212748   6.14988248  4.29734331\n",
            "  4.26434377  4.06019836  6.15564866  6.52597124  5.40307111  3.82397631\n",
            "  5.59519555  3.40728168  5.8619476   4.81063573  2.4479661   5.71441316\n",
            "  6.55589298  3.08761239  5.35151733  4.54730488  6.26613729  5.24168988\n",
            "  4.2946872   5.97965336  4.36297821  6.93144144  2.14633371  7.60231825\n",
            "  4.39169829  3.33945627  5.12576582  4.57916733  3.87917147  5.62110007\n",
            "  4.22033535  5.74060761  4.80830146  5.56719727  5.96432582  5.42238689\n",
            "  4.96011911  2.29656607  5.78897747  4.20957713  5.62287003  6.70162618\n",
            "  6.18123457  2.67882017  4.78659613  4.62351258  4.43079967  5.97955898\n",
            "  3.95632066  2.06363753  5.4165338   6.15442902  6.49378157  4.95045478\n",
            "  5.64959459  1.52494275  4.86338956  6.63522709  5.02167221  6.05969909\n",
            "  4.67381739  3.43447292  3.57730385  3.97076027  6.99080452  5.40118491\n",
            "  3.95014407  6.18767494  5.13145924  3.46662616  6.09429881  5.72544922\n",
            "  3.15366848  6.40092277  6.23619178  5.45117605  4.00638631  6.56856687\n",
            "  4.72990217  4.07584376  5.37236012  4.59489247  4.58511164  5.20082823\n",
            "  5.85363199  5.99867731  3.63179105  6.54481661  5.48886945  5.24594153\n",
            "  4.06560259  4.45409557  4.47294723  3.2249967   6.19419717  5.43290239\n",
            "  6.31392406  3.37502163  4.1058176   4.66594761  5.99306038  5.83377772\n",
            "  6.01897306  4.93899586  2.42070003  4.3484694   6.04103813  6.2579571\n",
            "  4.80138466  6.21800327  3.85942471  6.07564783  6.30024561  5.12909802\n",
            "  4.7259703   2.69170072  3.10430025  5.99718056  5.14556662  3.01635268\n",
            "  5.44639548  4.5458699   6.28468292  6.64803607  4.21214445  6.54837954\n",
            "  1.20747561  6.3238043   3.48027705  5.37818881  4.42969953  5.44520633\n",
            "  5.87066547  5.39348697  3.98213201  4.99923699  4.30997664  4.9477936\n",
            "  4.2883639   6.54576449  6.40682503  4.49714061  5.89392445  5.99643927\n",
            "  4.91959206  2.86189256  5.45033951  6.18869164  5.68344821  4.38074955\n",
            "  5.07614692  6.402879    4.64748379  5.08254888  5.76860161  5.52542301\n",
            "  5.01211364  4.32802677  5.80453326  4.05205251  5.69552837  4.08499581\n",
            "  6.68245186  3.8932506   7.31548745  4.06908379  2.07425596  3.46843369\n",
            "  3.6592338   4.22070828  5.12812424  5.77986035  6.73035878  4.59946203\n",
            "  3.91505484  3.85254676  4.76439085  6.92599932  5.17595047  4.52240529\n",
            "  5.06790443  4.82880287  2.58825344  6.13088225  5.80203727  4.8723156\n",
            "  1.20888946  6.69531737  3.17353813  4.698035    6.58615088  4.90842055\n",
            "  6.35269533  2.64199836  5.08575855  4.53797102  5.13626763  4.72372292\n",
            "  6.69691301  4.62024282  4.10946501  6.97652012  5.35033857  4.88558958\n",
            "  3.22211432  4.51088353  4.11071712  4.66744112  4.82384569  5.82123912\n",
            "  6.12244218  4.69269003  5.04011678  4.67731922  6.58144598  2.77919502\n",
            "  5.92157315  6.92189969  5.49589444  4.88801022  4.94117314  3.45020901\n",
            "  5.15289374  4.61316817  4.19442512  5.41042976  3.80149358  6.79124339\n",
            "  5.56448603  3.00976395  6.14260782  3.93643553  5.88207722  4.86447914\n",
            "  6.07241228  3.97274106  3.44881159  5.6404053   5.28918729  3.96636079\n",
            "  4.45581321  5.69388087  5.2015565   5.72216194  3.92039397  3.75898101\n",
            "  5.83640641  5.33745262  3.03613878  6.26106313  6.27874931  3.82191304\n",
            "  5.50733682  6.20387325  3.60687131  4.03712604  4.79299583  4.74953794\n",
            "  2.12042133  5.18294212  4.16959641  5.30284968  3.25680704  2.58567279\n",
            "  2.81294679  5.12092024  2.20968485  7.22337946  5.90579466  4.97496289\n",
            "  6.95505645  6.19389559  5.20183513  4.12689567  3.2429734   4.31509607\n",
            "  5.43300805  5.43417415  4.60346101  4.96828865  2.67105498  6.47263776\n",
            "  4.07843008  5.47274994  2.57633341  6.05443161  5.51147878  4.33703398\n",
            "  5.3560419   2.74686294  5.25018185  4.84444952  1.44250194  4.66030083\n",
            "  4.10650077  5.89470481  4.71313171  4.43694276  4.81799654  6.65455449\n",
            "  5.92619695  6.0098177   3.45290892  0.62126439  4.67213641  5.203144\n",
            "  4.63126967  5.58441134  5.1965607   0.59965974  4.93890147  5.36702425\n",
            "  3.75465519  5.27321906  3.52209182  1.04739915  4.45022153  5.09424499\n",
            "  6.36630056  4.02466469  6.86902628  6.09514364  1.56005981  4.6458513\n",
            "  5.36945393  4.73296898  4.57868497  6.65358989  4.61242112  3.90920239\n",
            "  5.49420618  6.93929258  5.60519025  4.75668658  5.43965438  4.10487624\n",
            "  5.84754658  4.46836711  2.88728107  6.30198787  5.06603399  6.65145117\n",
            "  5.48164409  4.75479562  5.25807001  5.30809393  4.86256487  3.9295365\n",
            "  6.5323439   7.12896452  5.22503787  5.09380122  4.75250376  6.61958853\n",
            "  5.87055118  5.88014254  3.87903187  4.15954927  6.81300426  3.58184588\n",
            "  6.81301149  5.27126963  6.38075916  4.79288523  3.6665247   5.30557285\n",
            "  6.42101342  2.39034269  7.0908988   5.70238393  6.8506565   6.84957151\n",
            "  5.60600826  5.79492539  4.21251215  5.14414338  5.6616926   6.14312512\n",
            "  4.41368485  5.5070039   6.53824551  4.21124502  7.13315397  4.18499215\n",
            "  2.11254966  2.08957732  6.07975482  4.53097974  5.93550308  4.27909942\n",
            "  6.7742577   5.14910331  6.27971825  5.65454068  5.4343681   6.04719152\n",
            "  5.23836236  3.71973022  1.48758197  5.20574319  4.15657576  5.21517477\n",
            "  4.30697929  4.69951684  4.76661848  4.97940835  5.61067696  4.31751647\n",
            "  6.07364475  4.39173187  6.37793109  5.99309228  7.30649595  5.04575648\n",
            "  4.37401284  5.26743329  4.61954556  6.04687615  4.76804344  2.1429636\n",
            "  4.71886931  6.13458496  5.58220899  7.50791481  6.09295863  4.87817092\n",
            "  5.56803841  6.04736583  5.80762644  4.92085823  3.64222582  6.92203002\n",
            "  5.92004897  3.73803841  3.26170436  5.96275372  6.28168551  5.85716203\n",
            "  3.31152466  4.59617256  5.5259688   5.77137776  3.83748468  7.36648893\n",
            "  4.40751143  6.45343414  3.10792592  7.18320476  5.8235033   5.2701422\n",
            "  5.62326441  5.45780049  4.53234923  6.47009968  5.69891722  6.14888712\n",
            "  4.17347163  5.96896119  5.3095308   5.48871385  6.10889752  3.69260799\n",
            "  4.13011861  6.58144034  5.61224764  4.17649384  6.0588475   2.92448569\n",
            "  4.7356265   5.13561245  3.12389779  5.05051894  6.08623407  4.04090773\n",
            "  4.20517667  4.42176561  1.48739512  5.45267724  5.33779558  6.59350725\n",
            "  4.66495831  4.34750294  5.47173606  4.48326715  5.48921229  7.14798895\n",
            "  5.84252241  5.09641425  5.70447102  3.15652767  5.45364396  5.65507612\n",
            "  3.60411299  3.8939773   6.58026701  5.18154183  5.57214199  3.21025924\n",
            "  6.02133396  3.65168116  5.04805608  5.40521264  6.74254355  3.96919459\n",
            "  4.94587548  3.46085414  2.54134121  6.0784631   6.27618471  6.33350427\n",
            "  5.45412666  4.46264495  4.11918099  5.37681205  2.22215154  4.28144331\n",
            "  5.590987    2.98416859  5.81133532  5.89068043  4.78583872  5.60523821\n",
            "  5.47633096  2.8303322   5.16012934  5.62998092  3.78746779  5.89781592\n",
            "  6.08708235  4.58574563  6.691164    4.72850772  5.75897437  5.85732208\n",
            "  6.04085101  6.4083433   5.75694663  5.70778108  5.46812512  4.07591351\n",
            "  5.27343872  5.48147678  5.76367037  4.12997978  5.16100494  3.83255468\n",
            "  6.3103684   4.33302524  4.0724349   3.6052031   4.86863473  5.7126405\n",
            "  4.8928592   4.72248581  6.78775569  3.14905739  6.07800793  6.10983704\n",
            "  6.61445074  3.95052118  4.74100385  4.2578217   5.11970081  5.90082434\n",
            "  5.84000913  5.48804126  3.84622216  3.66240726  4.00364979  4.14861754\n",
            "  5.30995395  5.91028712  3.29298565  5.9390808   6.36733038  4.78660569\n",
            "  2.65316424  5.7285806   6.75059804  5.53939118  4.00508794  4.17249357\n",
            "  6.73285069  5.86546778  6.00472994  3.71594738  6.49974747  1.50925781\n",
            "  5.43112294  4.65874642  3.57876712  4.69626318  6.44048546  5.20456309\n",
            "  4.94570352  5.81281194  4.00525016  4.54139382  1.18491107  5.4707075\n",
            "  7.97177549  5.85822336  4.47095074  6.05399882  4.72847674  5.04000336\n",
            "  6.28828805  5.70559515  5.06322328  4.48449106  4.04487506  3.79753425\n",
            "  4.52438109  5.36535875  5.31771725  3.60667575  0.59575587  7.10299094\n",
            "  4.37068582  6.78404585  5.51361786  4.85202762 -0.38130866  5.07016949\n",
            "  4.04239873  4.2073577   4.51833289  4.34942628]\n"
          ]
        }
      ],
      "source": [
        "model.fit(Xtrain, ytrain)\n",
        "ypred = model.predict(Xtest)\n",
        "print(ytest, ypred)"
      ]
    },
    {
      "cell_type": "markdown",
      "metadata": {
        "id": "X1ZFXfJ4Cryw"
      },
      "source": [
        "### Fit, predict and show the results\n",
        "Now we see the *regression coefficients* resulting from the fitting. \n",
        "\n",
        "In particular, *positive coefficients* indicate that the target *increases* with the variable, *negative coefficients* indicate a *decreasing* trend.\n",
        "\n",
        "The absolute values of the coefficient cannot be considered directly a measure of importance, due to the possibly different orders of magnitude of the data in the different columns (observe above the outputs of `describe`)."
      ]
    },
    {
      "cell_type": "code",
      "execution_count": null,
      "metadata": {
        "id": "YPn9STShCryw",
        "outputId": "308eb2ab-a892-42b9-cd1a-8235264c1034",
        "colab": {
          "base_uri": "https://localhost:8080/",
          "height": 238
        }
      },
      "outputs": [
        {
          "output_type": "execute_result",
          "data": {
            "text/plain": [
              "                     0         1\n",
              "0             adults_n -0.340699\n",
              "1           children_n -0.642617\n",
              "2               SexHRP  0.326706\n",
              "3               AgeHRP  0.016193\n",
              "4               uvmeat -0.385138\n",
              "5  income_hhsize_ratio  0.000969"
            ],
            "text/html": [
              "\n",
              "  <div id=\"df-2c6eb37c-36aa-4b0e-8d54-29205ad25cc8\">\n",
              "    <div class=\"colab-df-container\">\n",
              "      <div>\n",
              "<style scoped>\n",
              "    .dataframe tbody tr th:only-of-type {\n",
              "        vertical-align: middle;\n",
              "    }\n",
              "\n",
              "    .dataframe tbody tr th {\n",
              "        vertical-align: top;\n",
              "    }\n",
              "\n",
              "    .dataframe thead th {\n",
              "        text-align: right;\n",
              "    }\n",
              "</style>\n",
              "<table border=\"1\" class=\"dataframe\">\n",
              "  <thead>\n",
              "    <tr style=\"text-align: right;\">\n",
              "      <th></th>\n",
              "      <th>0</th>\n",
              "      <th>1</th>\n",
              "    </tr>\n",
              "  </thead>\n",
              "  <tbody>\n",
              "    <tr>\n",
              "      <th>0</th>\n",
              "      <td>adults_n</td>\n",
              "      <td>-0.340699</td>\n",
              "    </tr>\n",
              "    <tr>\n",
              "      <th>1</th>\n",
              "      <td>children_n</td>\n",
              "      <td>-0.642617</td>\n",
              "    </tr>\n",
              "    <tr>\n",
              "      <th>2</th>\n",
              "      <td>SexHRP</td>\n",
              "      <td>0.326706</td>\n",
              "    </tr>\n",
              "    <tr>\n",
              "      <th>3</th>\n",
              "      <td>AgeHRP</td>\n",
              "      <td>0.016193</td>\n",
              "    </tr>\n",
              "    <tr>\n",
              "      <th>4</th>\n",
              "      <td>uvmeat</td>\n",
              "      <td>-0.385138</td>\n",
              "    </tr>\n",
              "    <tr>\n",
              "      <th>5</th>\n",
              "      <td>income_hhsize_ratio</td>\n",
              "      <td>0.000969</td>\n",
              "    </tr>\n",
              "  </tbody>\n",
              "</table>\n",
              "</div>\n",
              "      <button class=\"colab-df-convert\" onclick=\"convertToInteractive('df-2c6eb37c-36aa-4b0e-8d54-29205ad25cc8')\"\n",
              "              title=\"Convert this dataframe to an interactive table.\"\n",
              "              style=\"display:none;\">\n",
              "        \n",
              "  <svg xmlns=\"http://www.w3.org/2000/svg\" height=\"24px\"viewBox=\"0 0 24 24\"\n",
              "       width=\"24px\">\n",
              "    <path d=\"M0 0h24v24H0V0z\" fill=\"none\"/>\n",
              "    <path d=\"M18.56 5.44l.94 2.06.94-2.06 2.06-.94-2.06-.94-.94-2.06-.94 2.06-2.06.94zm-11 1L8.5 8.5l.94-2.06 2.06-.94-2.06-.94L8.5 2.5l-.94 2.06-2.06.94zm10 10l.94 2.06.94-2.06 2.06-.94-2.06-.94-.94-2.06-.94 2.06-2.06.94z\"/><path d=\"M17.41 7.96l-1.37-1.37c-.4-.4-.92-.59-1.43-.59-.52 0-1.04.2-1.43.59L10.3 9.45l-7.72 7.72c-.78.78-.78 2.05 0 2.83L4 21.41c.39.39.9.59 1.41.59.51 0 1.02-.2 1.41-.59l7.78-7.78 2.81-2.81c.8-.78.8-2.07 0-2.86zM5.41 20L4 18.59l7.72-7.72 1.47 1.35L5.41 20z\"/>\n",
              "  </svg>\n",
              "      </button>\n",
              "      \n",
              "  <style>\n",
              "    .colab-df-container {\n",
              "      display:flex;\n",
              "      flex-wrap:wrap;\n",
              "      gap: 12px;\n",
              "    }\n",
              "\n",
              "    .colab-df-convert {\n",
              "      background-color: #E8F0FE;\n",
              "      border: none;\n",
              "      border-radius: 50%;\n",
              "      cursor: pointer;\n",
              "      display: none;\n",
              "      fill: #1967D2;\n",
              "      height: 32px;\n",
              "      padding: 0 0 0 0;\n",
              "      width: 32px;\n",
              "    }\n",
              "\n",
              "    .colab-df-convert:hover {\n",
              "      background-color: #E2EBFA;\n",
              "      box-shadow: 0px 1px 2px rgba(60, 64, 67, 0.3), 0px 1px 3px 1px rgba(60, 64, 67, 0.15);\n",
              "      fill: #174EA6;\n",
              "    }\n",
              "\n",
              "    [theme=dark] .colab-df-convert {\n",
              "      background-color: #3B4455;\n",
              "      fill: #D2E3FC;\n",
              "    }\n",
              "\n",
              "    [theme=dark] .colab-df-convert:hover {\n",
              "      background-color: #434B5C;\n",
              "      box-shadow: 0px 1px 3px 1px rgba(0, 0, 0, 0.15);\n",
              "      filter: drop-shadow(0px 1px 2px rgba(0, 0, 0, 0.3));\n",
              "      fill: #FFFFFF;\n",
              "    }\n",
              "  </style>\n",
              "\n",
              "      <script>\n",
              "        const buttonEl =\n",
              "          document.querySelector('#df-2c6eb37c-36aa-4b0e-8d54-29205ad25cc8 button.colab-df-convert');\n",
              "        buttonEl.style.display =\n",
              "          google.colab.kernel.accessAllowed ? 'block' : 'none';\n",
              "\n",
              "        async function convertToInteractive(key) {\n",
              "          const element = document.querySelector('#df-2c6eb37c-36aa-4b0e-8d54-29205ad25cc8');\n",
              "          const dataTable =\n",
              "            await google.colab.kernel.invokeFunction('convertToInteractive',\n",
              "                                                     [key], {});\n",
              "          if (!dataTable) return;\n",
              "\n",
              "          const docLinkHtml = 'Like what you see? Visit the ' +\n",
              "            '<a target=\"_blank\" href=https://colab.research.google.com/notebooks/data_table.ipynb>data table notebook</a>'\n",
              "            + ' to learn more about interactive tables.';\n",
              "          element.innerHTML = '';\n",
              "          dataTable['output_type'] = 'display_data';\n",
              "          await google.colab.output.renderOutput(dataTable, element);\n",
              "          const docLink = document.createElement('div');\n",
              "          docLink.innerHTML = docLinkHtml;\n",
              "          element.appendChild(docLink);\n",
              "        }\n",
              "      </script>\n",
              "    </div>\n",
              "  </div>\n",
              "  "
            ]
          },
          "metadata": {},
          "execution_count": 20
        }
      ],
      "source": [
        "# from https://www.statology.org/sklearn-regression-coefficients/\n",
        "pd.DataFrame(zip(X.columns, model.coef_))"
      ]
    },
    {
      "cell_type": "markdown",
      "metadata": {
        "id": "MiQkL6jaCryw"
      },
      "source": [
        "#### Compute the statistical significance"
      ]
    },
    {
      "cell_type": "code",
      "execution_count": null,
      "metadata": {
        "id": "LCi8qfmaCryw",
        "outputId": "f3cfc62c-5c1c-4749-c532-64c494222d7a"
      },
      "outputs": [
        {
          "data": {
            "text/html": [
              "<div>\n",
              "<style scoped>\n",
              "    .dataframe tbody tr th:only-of-type {\n",
              "        vertical-align: middle;\n",
              "    }\n",
              "\n",
              "    .dataframe tbody tr th {\n",
              "        vertical-align: top;\n",
              "    }\n",
              "\n",
              "    .dataframe thead th {\n",
              "        text-align: right;\n",
              "    }\n",
              "</style>\n",
              "<table border=\"1\" class=\"dataframe\">\n",
              "  <thead>\n",
              "    <tr style=\"text-align: right;\">\n",
              "      <th></th>\n",
              "      <th>Variable</th>\n",
              "      <th>p-value</th>\n",
              "    </tr>\n",
              "  </thead>\n",
              "  <tbody>\n",
              "    <tr>\n",
              "      <th>0</th>\n",
              "      <td>adults_n</td>\n",
              "      <td>4.812836e-19</td>\n",
              "    </tr>\n",
              "    <tr>\n",
              "      <th>1</th>\n",
              "      <td>children_n</td>\n",
              "      <td>1.384315e-188</td>\n",
              "    </tr>\n",
              "    <tr>\n",
              "      <th>2</th>\n",
              "      <td>SexHRP</td>\n",
              "      <td>5.806116e-10</td>\n",
              "    </tr>\n",
              "    <tr>\n",
              "      <th>3</th>\n",
              "      <td>AgeHRP</td>\n",
              "      <td>3.199609e-119</td>\n",
              "    </tr>\n",
              "    <tr>\n",
              "      <th>4</th>\n",
              "      <td>income_hhsize_ratio</td>\n",
              "      <td>6.460728e-08</td>\n",
              "    </tr>\n",
              "    <tr>\n",
              "      <th>5</th>\n",
              "      <td>uvmeat</td>\n",
              "      <td>0.000000e+00</td>\n",
              "    </tr>\n",
              "  </tbody>\n",
              "</table>\n",
              "</div>"
            ],
            "text/plain": [
              "              Variable        p-value\n",
              "0             adults_n   4.812836e-19\n",
              "1           children_n  1.384315e-188\n",
              "2               SexHRP   5.806116e-10\n",
              "3               AgeHRP  3.199609e-119\n",
              "4  income_hhsize_ratio   6.460728e-08\n",
              "5               uvmeat   0.000000e+00"
            ]
          },
          "execution_count": 22,
          "metadata": {},
          "output_type": "execute_result"
        }
      ],
      "source": []
    },
    {
      "cell_type": "markdown",
      "metadata": {
        "id": "yw-L6npNCryx"
      },
      "source": [
        "#### Compute the quality measures"
      ]
    },
    {
      "cell_type": "code",
      "execution_count": null,
      "metadata": {
        "id": "rM3TbwmuCryx",
        "outputId": "6734f3a6-dd87-4c6a-d35c-5d05deed2067",
        "colab": {
          "base_uri": "https://localhost:8080/"
        }
      },
      "outputs": [
        {
          "output_type": "stream",
          "name": "stdout",
          "text": [
            "RMSE:  3.7531\n",
            "r2:  0.1204\n",
            "F-statistic:  19.4975\n",
            "p-value:  1.1102230246251565e-16\n"
          ]
        }
      ],
      "source": [
        "regression_results(Xtest, ytest, ypred)"
      ]
    },
    {
      "cell_type": "markdown",
      "metadata": {
        "id": "VUPuuweyCryx"
      },
      "source": [
        "## Decision Tree Multivariate Regresson"
      ]
    },
    {
      "cell_type": "code",
      "execution_count": null,
      "metadata": {
        "id": "AxNTxX4aCryy"
      },
      "outputs": [],
      "source": [
        "# Create Decision Tree regression object\n",
        "from sklearn.tree import DecisionTreeRegressor"
      ]
    },
    {
      "cell_type": "markdown",
      "metadata": {
        "id": "DdCt6-_KCryy"
      },
      "source": [
        "#### Fit the tree with default hyperparameters, and find the maximum depth of the unconstrained tree"
      ]
    },
    {
      "cell_type": "code",
      "execution_count": null,
      "metadata": {
        "id": "Xpb0rQM0Cryy",
        "outputId": "af7801c2-755b-4910-cf6a-d52f2948c005",
        "colab": {
          "base_uri": "https://localhost:8080/"
        }
      },
      "outputs": [
        {
          "output_type": "stream",
          "name": "stdout",
          "text": [
            "33\n"
          ]
        }
      ],
      "source": [
        "model = DecisionTreeRegressor()\n",
        "model.fit(Xtrain, ytrain)\n",
        "fitted_max_depth = model.get_depth()\n",
        "print(fitted_max_depth)"
      ]
    },
    {
      "cell_type": "markdown",
      "metadata": {
        "id": "cBgMhthKCryy"
      },
      "source": [
        "#### Find the optimal value of the hyperparameter `max_depth` with *cross-validation*\n",
        "The optimization searches for the *maximum tree depth* guaranteing the smallest mean squared error\n",
        "At the end, this operation returns also the *fitted best tree* `best_estimator_`"
      ]
    },
    {
      "cell_type": "markdown",
      "source": [
        "#### My comment\n",
        "We use the same method as shown in lab03-02 (topic 3b - class_tuning). We initialize an empty score vector in which to store the scores of each depth utilized, ranging depths from 1 to the maximum depth found."
      ],
      "metadata": {
        "id": "RnTDUWw2-fzr"
      }
    },
    {
      "cell_type": "code",
      "execution_count": null,
      "metadata": {
        "id": "jso1XDCRCryz",
        "outputId": "7026864c-bc34-43fc-f770-c9ef1a2a48f2",
        "colab": {
          "base_uri": "https://localhost:8080/"
        }
      },
      "outputs": [
        {
          "output_type": "stream",
          "name": "stdout",
          "text": [
            "The optimal maximum depth for the decision tree is 1\n"
          ]
        }
      ],
      "source": [
        "from sklearn.model_selection import cross_val_score\n",
        "\n",
        "\n",
        "parameter_values = range(1, fitted_max_depth+1)\n",
        "scores = []\n",
        "for par in parameter_values:\n",
        "  estimator = DecisionTreeRegressor(max_depth=par, criterion=\"squared_error\")\n",
        "  cross_scores = cross_val_score(estimator, Xtrain, ytrain, scoring='neg_mean_squared_error')\n",
        "  scores.append(np.average(cross_scores))\n",
        "\n",
        "rmse_scores = np.sqrt(np.negative(scores))\n",
        "best_depth = np.argmin(rmse_scores)\n",
        "\n",
        "print('The optimal maximum depth for the decision tree is', best_depth)"
      ]
    },
    {
      "cell_type": "code",
      "execution_count": null,
      "metadata": {
        "id": "V6Q3ufltCryz",
        "outputId": "c7f898f9-3586-4de3-d929-d197ea3c0587",
        "colab": {
          "base_uri": "https://localhost:8080/"
        }
      },
      "outputs": [
        {
          "output_type": "stream",
          "name": "stdout",
          "text": [
            "Decision Tree Regression - RMSE = 3.59\n"
          ]
        }
      ],
      "source": [
        "print('Decision Tree Regression - RMSE =', round(rmse_scores[best_depth], 2))\n",
        "model = DecisionTreeRegressor(max_depth=best_depth)\n",
        "model.fit(Xtrain, ytrain)"
      ]
    },
    {
      "cell_type": "markdown",
      "metadata": {
        "id": "7OgybkP3Cryz"
      },
      "source": [
        "#### Show the tree"
      ]
    },
    {
      "cell_type": "code",
      "execution_count": null,
      "metadata": {
        "id": "1Akhs5_FCryz",
        "outputId": "b0651534-203f-40f0-83b4-1e3f6251e80c",
        "colab": {
          "base_uri": "https://localhost:8080/",
          "height": 704
        }
      },
      "outputs": [
        {
          "output_type": "execute_result",
          "data": {
            "text/plain": [
              "[Text(0.5, 0.8333333333333334, 'uvmeat <= 7.393\\nsquared_error = 14.113\\nsamples = 2584\\nvalue = 5.018'),\n",
              " Text(0.25, 0.5, 'children_n <= 0.5\\nsquared_error = 15.005\\nsamples = 1615\\nvalue = 5.653'),\n",
              " Text(0.125, 0.16666666666666666, '\\n  (...)  \\n'),\n",
              " Text(0.375, 0.16666666666666666, '\\n  (...)  \\n'),\n",
              " Text(0.75, 0.5, 'uvmeat <= 12.428\\nsquared_error = 10.836\\nsamples = 969\\nvalue = 3.96'),\n",
              " Text(0.625, 0.16666666666666666, '\\n  (...)  \\n'),\n",
              " Text(0.875, 0.16666666666666666, '\\n  (...)  \\n')]"
            ]
          },
          "metadata": {},
          "execution_count": 57
        },
        {
          "output_type": "display_data",
          "data": {
            "text/plain": [
              "<Figure size 720x720 with 1 Axes>"
            ],
            "image/png": "[encoded data removed]"
          },
          "metadata": {
            "needs_background": "light"
          }
        }
      ],
      "source": [
        "from sklearn.tree import plot_tree\n",
        "from matplotlib.pyplot import figure\n",
        "# Your code here\n",
        "fig, ax = plt.subplots(figsize=(10,10))\n",
        "plot_tree(model, max_depth=best_depth, feature_names=Xtest.columns, class_names=[target_name], filled=True)"
      ]
    },
    {
      "cell_type": "markdown",
      "metadata": {
        "id": "On7HybMYCryz"
      },
      "source": [
        "## Random Forest Multivariate Regresson\n",
        "Create a Random forest regressor and fit it on the complete dataset.\n",
        "\n",
        "For simplicity use the max_depth found in the Decision tree regressor to perform a cross validation and find the best depth for this model."
      ]
    },
    {
      "cell_type": "code",
      "execution_count": null,
      "metadata": {
        "id": "_h2D1cmgCryz",
        "outputId": "12daab1b-ab1a-4b3c-8993-0f9daf87650c",
        "colab": {
          "base_uri": "https://localhost:8080/"
        }
      },
      "outputs": [
        {
          "output_type": "stream",
          "name": "stdout",
          "text": [
            "The optimal maximum depth for the trees in the random forest is 2\n"
          ]
        }
      ],
      "source": [
        "from sklearn.ensemble import RandomForestRegressor\n",
        "\n",
        "scores = []\n",
        "for par in parameter_values:\n",
        "  estimator = RandomForestRegressor(max_depth=par, criterion=\"squared_error\")\n",
        "  cross_scores = cross_val_score(estimator, Xtrain, ytrain, scoring='neg_mean_squared_error')\n",
        "  scores.append(np.average(cross_scores))\n",
        "\n",
        "rmse_scores = np.sqrt(np.negative(scores))\n",
        "best_depth = np.argmin(rmse_scores)\n",
        "\n",
        "print('The optimal maximum depth for the trees in the random forest is', best_depth)"
      ]
    },
    {
      "cell_type": "code",
      "execution_count": null,
      "metadata": {
        "id": "Va843I_NCryz",
        "outputId": "a06aec47-a70c-49cf-f543-58d1fb40eea7",
        "colab": {
          "base_uri": "https://localhost:8080/"
        }
      },
      "outputs": [
        {
          "output_type": "stream",
          "name": "stdout",
          "text": [
            "Random Forest Regression - RMSE = 3.55\n"
          ]
        },
        {
          "output_type": "execute_result",
          "data": {
            "text/plain": [
              "RandomForestRegressor(max_depth=2)"
            ]
          },
          "metadata": {},
          "execution_count": 61
        }
      ],
      "source": [
        "print('Random Forest Regression - RMSE =', round(rmse_scores[best_depth], 2))\n",
        "model = RandomForestRegressor(max_depth=best_depth)\n",
        "model.fit(Xtrain, ytrain)"
      ]
    },
    {
      "cell_type": "markdown",
      "metadata": {
        "id": "g6slvcKqCryz"
      },
      "source": [
        "## Final observations\n",
        "### Linear regression\n",
        "The multivariate regression with all the predicting variables available with respect to the univariate regression has \n",
        "- lower RMSE \n",
        "- higher coefficient of determination \n",
        "- the p-value suggests the acceptance of both models\n",
        "### Decision Tree and Random Forest regression\n",
        "- Decistion Tree has an RMSE slightly higher than multivariate linear regression\n",
        "- Random Forest has an RMSE slightly lower than multivariate linear regression\n"
      ]
    },
    {
      "cell_type": "markdown",
      "metadata": {
        "id": "aUfAgzrCCry0"
      },
      "source": [
        "## Control questions\n",
        "1. observing the multi-variate experiment, what variable has the higher effect on the target?\n",
        "1. is there a variable having an almost negligible effect on the target?\n",
        "1. try to repeat the univariate experiment with the other two columns and comment the results"
      ]
    }
  ],
  "metadata": {
    "kernelspec": {
      "display_name": "Python 3.7.13 ('res')",
      "language": "python",
      "name": "python3"
    },
    "language_info": {
      "codemirror_mode": {
        "name": "ipython",
        "version": 3
      },
      "file_extension": ".py",
      "mimetype": "text/x-python",
      "name": "python",
      "nbconvert_exporter": "python",
      "pygments_lexer": "ipython3",
      "version": "3.7.13"
    },
    "vscode": {
      "interpreter": {
        "hash": "7650257707f3238d5df88771c66da47b78c5077cb779498608c81dcf9deec5b5"
      }
    },
    "colab": {
      "provenance": []
    }
  },
  "nbformat": 4,
  "nbformat_minor": 0
}