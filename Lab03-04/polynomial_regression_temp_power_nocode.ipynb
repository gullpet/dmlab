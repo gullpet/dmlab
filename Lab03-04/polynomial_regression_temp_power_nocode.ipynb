{
  "cells": [
    {
      "cell_type": "markdown",
      "metadata": {
        "id": "InrmEPFcMKy6"
      },
      "source": [
        "# Polynomial regression \n",
        "\n",
        "The example belows uses a temperature-energy dataset in order to illustrate how to perform a non linear regression.\n",
        "\n",
        "Workflow:\n",
        "1. Preparation\n",
        "    - Extract the dataset from the _power_demand_vs_temperature.csv_ \n",
        "    - Explore the dataset and check for missing values\n",
        "    - Plot the distribution\n",
        "    - Divide the dataset into train and test \n",
        "    - Create an evaluation function\n",
        "2. First experiment\n",
        "    - Create a linear model \n",
        "    - Train the model on X_train and y_train\n",
        "    - Evaluate the model on X_test and y_test\n",
        "    - Visualize the prediction of the model\n",
        "3. Second experiment\n",
        "    - Create a polynomial regression model with degree 2\n",
        "    - Train the model on X_train and y_train\n",
        "    - Evaluate the model on X_test and y_test\n",
        "    - Visualize the prediction of the model\n",
        "4. Third experiment\n",
        "    - repeat the steps done in the second experiment but with degree 3\n",
        "5. Third experiment\n",
        "    - repeat the steps done in the second experiment but with degree 4\n",
        "6. Compare the evaluation of each model\n"
      ]
    },
    {
      "cell_type": "code",
      "execution_count": null,
      "metadata": {
        "id": "756Os5cuMKy7"
      },
      "outputs": [],
      "source": [
        "# Code source: Filippo Orazi \n",
        "# License: BSD 3 clause\n",
        "\n",
        "import matplotlib.pyplot as plt\n",
        "import numpy as np\n",
        "import scipy.stats\n",
        "from sklearn import datasets, linear_model\n",
        "from sklearn.metrics import mean_squared_error, r2_score\n",
        "import pandas as pd\n",
        "import seaborn as sns\n",
        "from sklearn.preprocessing import PolynomialFeatures\n",
        "from sklearn.linear_model import LinearRegression\n",
        "from sklearn.model_selection import train_test_split\n",
        "\n",
        "random_state = 42 # this will be used to guarantee the repeatability of the experiment"
      ]
    },
    {
      "cell_type": "markdown",
      "metadata": {
        "id": "Oz7WKGm2MKy8"
      },
      "source": [
        "## Dataset preparation"
      ]
    },
    {
      "cell_type": "markdown",
      "metadata": {
        "id": "e_xvS_4UMKy8"
      },
      "source": [
        "### Load the dataset from a `.csv` file\n",
        "This cell allows full compatibility between execution in Google Colab and in local\n"
      ]
    },
    {
      "cell_type": "code",
      "execution_count": null,
      "metadata": {
        "colab": {
          "base_uri": "https://localhost:8080/",
          "height": 76
        },
        "id": "iQXQOC3EMKy9",
        "outputId": "96a601f3-c26b-4caf-f86e-5c7b886facf1"
      },
      "outputs": [
        {
          "output_type": "display_data",
          "data": {
            "text/plain": [
              "<IPython.core.display.HTML object>"
            ],
            "text/html": [
              "\n",
              "     <input type=\"file\" id=\"files-0c3fc569-e702-4de9-8261-1417fefa09b9\" name=\"files[]\" multiple disabled\n",
              "        style=\"border:none\" />\n",
              "     <output id=\"result-0c3fc569-e702-4de9-8261-1417fefa09b9\">\n",
              "      Upload widget is only available when the cell has been executed in the\n",
              "      current browser session. Please rerun this cell to enable.\n",
              "      </output>\n",
              "      <script>// Copyright 2017 Google LLC\n",
              "//\n",
              "// Licensed under the Apache License, Version 2.0 (the \"License\");\n",
              "// you may not use this file except in compliance with the License.\n",
              "// You may obtain a copy of the License at\n",
              "//\n",
              "//      http://www.apache.org/licenses/LICENSE-2.0\n",
              "//\n",
              "// Unless required by applicable law or agreed to in writing, software\n",
              "// distributed under the License is distributed on an \"AS IS\" BASIS,\n",
              "// WITHOUT WARRANTIES OR CONDITIONS OF ANY KIND, either express or implied.\n",
              "// See the License for the specific language governing permissions and\n",
              "// limitations under the License.\n",
              "\n",
              "/**\n",
              " * @fileoverview Helpers for google.colab Python module.\n",
              " */\n",
              "(function(scope) {\n",
              "function span(text, styleAttributes = {}) {\n",
              "  const element = document.createElement('span');\n",
              "  element.textContent = text;\n",
              "  for (const key of Object.keys(styleAttributes)) {\n",
              "    element.style[key] = styleAttributes[key];\n",
              "  }\n",
              "  return element;\n",
              "}\n",
              "\n",
              "// Max number of bytes which will be uploaded at a time.\n",
              "const MAX_PAYLOAD_SIZE = 100 * 1024;\n",
              "\n",
              "function _uploadFiles(inputId, outputId) {\n",
              "  const steps = uploadFilesStep(inputId, outputId);\n",
              "  const outputElement = document.getElementById(outputId);\n",
              "  // Cache steps on the outputElement to make it available for the next call\n",
              "  // to uploadFilesContinue from Python.\n",
              "  outputElement.steps = steps;\n",
              "\n",
              "  return _uploadFilesContinue(outputId);\n",
              "}\n",
              "\n",
              "// This is roughly an async generator (not supported in the browser yet),\n",
              "// where there are multiple asynchronous steps and the Python side is going\n",
              "// to poll for completion of each step.\n",
              "// This uses a Promise to block the python side on completion of each step,\n",
              "// then passes the result of the previous step as the input to the next step.\n",
              "function _uploadFilesContinue(outputId) {\n",
              "  const outputElement = document.getElementById(outputId);\n",
              "  const steps = outputElement.steps;\n",
              "\n",
              "  const next = steps.next(outputElement.lastPromiseValue);\n",
              "  return Promise.resolve(next.value.promise).then((value) => {\n",
              "    // Cache the last promise value to make it available to the next\n",
              "    // step of the generator.\n",
              "    outputElement.lastPromiseValue = value;\n",
              "    return next.value.response;\n",
              "  });\n",
              "}\n",
              "\n",
              "/**\n",
              " * Generator function which is called between each async step of the upload\n",
              " * process.\n",
              " * @param {string} inputId Element ID of the input file picker element.\n",
              " * @param {string} outputId Element ID of the output display.\n",
              " * @return {!Iterable<!Object>} Iterable of next steps.\n",
              " */\n",
              "function* uploadFilesStep(inputId, outputId) {\n",
              "  const inputElement = document.getElementById(inputId);\n",
              "  inputElement.disabled = false;\n",
              "\n",
              "  const outputElement = document.getElementById(outputId);\n",
              "  outputElement.innerHTML = '';\n",
              "\n",
              "  const pickedPromise = new Promise((resolve) => {\n",
              "    inputElement.addEventListener('change', (e) => {\n",
              "      resolve(e.target.files);\n",
              "    });\n",
              "  });\n",
              "\n",
              "  const cancel = document.createElement('button');\n",
              "  inputElement.parentElement.appendChild(cancel);\n",
              "  cancel.textContent = 'Cancel upload';\n",
              "  const cancelPromise = new Promise((resolve) => {\n",
              "    cancel.onclick = () => {\n",
              "      resolve(null);\n",
              "    };\n",
              "  });\n",
              "\n",
              "  // Wait for the user to pick the files.\n",
              "  const files = yield {\n",
              "    promise: Promise.race([pickedPromise, cancelPromise]),\n",
              "    response: {\n",
              "      action: 'starting',\n",
              "    }\n",
              "  };\n",
              "\n",
              "  cancel.remove();\n",
              "\n",
              "  // Disable the input element since further picks are not allowed.\n",
              "  inputElement.disabled = true;\n",
              "\n",
              "  if (!files) {\n",
              "    return {\n",
              "      response: {\n",
              "        action: 'complete',\n",
              "      }\n",
              "    };\n",
              "  }\n",
              "\n",
              "  for (const file of files) {\n",
              "    const li = document.createElement('li');\n",
              "    li.append(span(file.name, {fontWeight: 'bold'}));\n",
              "    li.append(span(\n",
              "        `(${file.type || 'n/a'}) - ${file.size} bytes, ` +\n",
              "        `last modified: ${\n",
              "            file.lastModifiedDate ? file.lastModifiedDate.toLocaleDateString() :\n",
              "                                    'n/a'} - `));\n",
              "    const percent = span('0% done');\n",
              "    li.appendChild(percent);\n",
              "\n",
              "    outputElement.appendChild(li);\n",
              "\n",
              "    const fileDataPromise = new Promise((resolve) => {\n",
              "      const reader = new FileReader();\n",
              "      reader.onload = (e) => {\n",
              "        resolve(e.target.result);\n",
              "      };\n",
              "      reader.readAsArrayBuffer(file);\n",
              "    });\n",
              "    // Wait for the data to be ready.\n",
              "    let fileData = yield {\n",
              "      promise: fileDataPromise,\n",
              "      response: {\n",
              "        action: 'continue',\n",
              "      }\n",
              "    };\n",
              "\n",
              "    // Use a chunked sending to avoid message size limits. See b/62115660.\n",
              "    let position = 0;\n",
              "    do {\n",
              "      const length = Math.min(fileData.byteLength - position, MAX_PAYLOAD_SIZE);\n",
              "      const chunk = new Uint8Array(fileData, position, length);\n",
              "      position += length;\n",
              "\n",
              "      const base64 = btoa(String.fromCharCode.apply(null, chunk));\n",
              "      yield {\n",
              "        response: {\n",
              "          action: 'append',\n",
              "          file: file.name,\n",
              "          data: base64,\n",
              "        },\n",
              "      };\n",
              "\n",
              "      let percentDone = fileData.byteLength === 0 ?\n",
              "          100 :\n",
              "          Math.round((position / fileData.byteLength) * 100);\n",
              "      percent.textContent = `${percentDone}% done`;\n",
              "\n",
              "    } while (position < fileData.byteLength);\n",
              "  }\n",
              "\n",
              "  // All done.\n",
              "  yield {\n",
              "    response: {\n",
              "      action: 'complete',\n",
              "    }\n",
              "  };\n",
              "}\n",
              "\n",
              "scope.google = scope.google || {};\n",
              "scope.google.colab = scope.google.colab || {};\n",
              "scope.google.colab._files = {\n",
              "  _uploadFiles,\n",
              "  _uploadFilesContinue,\n",
              "};\n",
              "})(self);\n",
              "</script> "
            ]
          },
          "metadata": {}
        },
        {
          "output_type": "stream",
          "name": "stdout",
          "text": [
            "Saving power_demand_vs_temperature.csv to power_demand_vs_temperature.csv\n"
          ]
        }
      ],
      "source": [
        "try:\n",
        "  from google.colab import files\n",
        "  IN_COLAB = True\n",
        "except:\n",
        "  IN_COLAB = False\n",
        "if IN_COLAB:\n",
        "    uploaded = files.upload()\n"
      ]
    },
    {
      "cell_type": "markdown",
      "metadata": {
        "id": "uhBMNlZ3MKy9"
      },
      "source": [
        "The file must be available in the same directory, or uploaded in the Colab environment in the execution of the previous cell\n"
      ]
    },
    {
      "cell_type": "markdown",
      "metadata": {
        "id": "spH-np5YMKy-"
      },
      "source": [
        "Set the date column as index"
      ]
    },
    {
      "cell_type": "code",
      "execution_count": null,
      "metadata": {
        "colab": {
          "base_uri": "https://localhost:8080/",
          "height": 238
        },
        "id": "iCfpIX5_MKy-",
        "outputId": "53812189-6ca2-4b25-d1dc-dcb2738aaa97"
      },
      "outputs": [
        {
          "output_type": "execute_result",
          "data": {
            "text/plain": [
              "              demand  temp\n",
              "date                      \n",
              "2015-01-01  1.736065   1.7\n",
              "2015-01-02  1.831672   2.2\n",
              "2015-01-03  1.714934  14.4\n",
              "2015-01-04  1.628577  15.6\n",
              "2015-01-05  2.045394   0.0"
            ],
            "text/html": [
              "\n",
              "  <div id=\"df-465d3eeb-4178-46c5-b1e2-b7f90caae02d\">\n",
              "    <div class=\"colab-df-container\">\n",
              "      <div>\n",
              "<style scoped>\n",
              "    .dataframe tbody tr th:only-of-type {\n",
              "        vertical-align: middle;\n",
              "    }\n",
              "\n",
              "    .dataframe tbody tr th {\n",
              "        vertical-align: top;\n",
              "    }\n",
              "\n",
              "    .dataframe thead th {\n",
              "        text-align: right;\n",
              "    }\n",
              "</style>\n",
              "<table border=\"1\" class=\"dataframe\">\n",
              "  <thead>\n",
              "    <tr style=\"text-align: right;\">\n",
              "      <th></th>\n",
              "      <th>demand</th>\n",
              "      <th>temp</th>\n",
              "    </tr>\n",
              "    <tr>\n",
              "      <th>date</th>\n",
              "      <th></th>\n",
              "      <th></th>\n",
              "    </tr>\n",
              "  </thead>\n",
              "  <tbody>\n",
              "    <tr>\n",
              "      <th>2015-01-01</th>\n",
              "      <td>1.736065</td>\n",
              "      <td>1.7</td>\n",
              "    </tr>\n",
              "    <tr>\n",
              "      <th>2015-01-02</th>\n",
              "      <td>1.831672</td>\n",
              "      <td>2.2</td>\n",
              "    </tr>\n",
              "    <tr>\n",
              "      <th>2015-01-03</th>\n",
              "      <td>1.714934</td>\n",
              "      <td>14.4</td>\n",
              "    </tr>\n",
              "    <tr>\n",
              "      <th>2015-01-04</th>\n",
              "      <td>1.628577</td>\n",
              "      <td>15.6</td>\n",
              "    </tr>\n",
              "    <tr>\n",
              "      <th>2015-01-05</th>\n",
              "      <td>2.045394</td>\n",
              "      <td>0.0</td>\n",
              "    </tr>\n",
              "  </tbody>\n",
              "</table>\n",
              "</div>\n",
              "      <button class=\"colab-df-convert\" onclick=\"convertToInteractive('df-465d3eeb-4178-46c5-b1e2-b7f90caae02d')\"\n",
              "              title=\"Convert this dataframe to an interactive table.\"\n",
              "              style=\"display:none;\">\n",
              "        \n",
              "  <svg xmlns=\"http://www.w3.org/2000/svg\" height=\"24px\"viewBox=\"0 0 24 24\"\n",
              "       width=\"24px\">\n",
              "    <path d=\"M0 0h24v24H0V0z\" fill=\"none\"/>\n",
              "    <path d=\"M18.56 5.44l.94 2.06.94-2.06 2.06-.94-2.06-.94-.94-2.06-.94 2.06-2.06.94zm-11 1L8.5 8.5l.94-2.06 2.06-.94-2.06-.94L8.5 2.5l-.94 2.06-2.06.94zm10 10l.94 2.06.94-2.06 2.06-.94-2.06-.94-.94-2.06-.94 2.06-2.06.94z\"/><path d=\"M17.41 7.96l-1.37-1.37c-.4-.4-.92-.59-1.43-.59-.52 0-1.04.2-1.43.59L10.3 9.45l-7.72 7.72c-.78.78-.78 2.05 0 2.83L4 21.41c.39.39.9.59 1.41.59.51 0 1.02-.2 1.41-.59l7.78-7.78 2.81-2.81c.8-.78.8-2.07 0-2.86zM5.41 20L4 18.59l7.72-7.72 1.47 1.35L5.41 20z\"/>\n",
              "  </svg>\n",
              "      </button>\n",
              "      \n",
              "  <style>\n",
              "    .colab-df-container {\n",
              "      display:flex;\n",
              "      flex-wrap:wrap;\n",
              "      gap: 12px;\n",
              "    }\n",
              "\n",
              "    .colab-df-convert {\n",
              "      background-color: #E8F0FE;\n",
              "      border: none;\n",
              "      border-radius: 50%;\n",
              "      cursor: pointer;\n",
              "      display: none;\n",
              "      fill: #1967D2;\n",
              "      height: 32px;\n",
              "      padding: 0 0 0 0;\n",
              "      width: 32px;\n",
              "    }\n",
              "\n",
              "    .colab-df-convert:hover {\n",
              "      background-color: #E2EBFA;\n",
              "      box-shadow: 0px 1px 2px rgba(60, 64, 67, 0.3), 0px 1px 3px 1px rgba(60, 64, 67, 0.15);\n",
              "      fill: #174EA6;\n",
              "    }\n",
              "\n",
              "    [theme=dark] .colab-df-convert {\n",
              "      background-color: #3B4455;\n",
              "      fill: #D2E3FC;\n",
              "    }\n",
              "\n",
              "    [theme=dark] .colab-df-convert:hover {\n",
              "      background-color: #434B5C;\n",
              "      box-shadow: 0px 1px 3px 1px rgba(0, 0, 0, 0.15);\n",
              "      filter: drop-shadow(0px 1px 2px rgba(0, 0, 0, 0.3));\n",
              "      fill: #FFFFFF;\n",
              "    }\n",
              "  </style>\n",
              "\n",
              "      <script>\n",
              "        const buttonEl =\n",
              "          document.querySelector('#df-465d3eeb-4178-46c5-b1e2-b7f90caae02d button.colab-df-convert');\n",
              "        buttonEl.style.display =\n",
              "          google.colab.kernel.accessAllowed ? 'block' : 'none';\n",
              "\n",
              "        async function convertToInteractive(key) {\n",
              "          const element = document.querySelector('#df-465d3eeb-4178-46c5-b1e2-b7f90caae02d');\n",
              "          const dataTable =\n",
              "            await google.colab.kernel.invokeFunction('convertToInteractive',\n",
              "                                                     [key], {});\n",
              "          if (!dataTable) return;\n",
              "\n",
              "          const docLinkHtml = 'Like what you see? Visit the ' +\n",
              "            '<a target=\"_blank\" href=https://colab.research.google.com/notebooks/data_table.ipynb>data table notebook</a>'\n",
              "            + ' to learn more about interactive tables.';\n",
              "          element.innerHTML = '';\n",
              "          dataTable['output_type'] = 'display_data';\n",
              "          await google.colab.output.renderOutput(dataTable, element);\n",
              "          const docLink = document.createElement('div');\n",
              "          docLink.innerHTML = docLinkHtml;\n",
              "          element.appendChild(docLink);\n",
              "        }\n",
              "      </script>\n",
              "    </div>\n",
              "  </div>\n",
              "  "
            ]
          },
          "metadata": {},
          "execution_count": 3
        }
      ],
      "source": [
        "data_fn = 'power_demand_vs_temperature.csv'\n",
        "df = pd.read_csv(data_fn, index_col=0)\n",
        "df.head()"
      ]
    },
    {
      "cell_type": "markdown",
      "metadata": {
        "id": "U6Y28nXGMKy_"
      },
      "source": [
        "### Explore the dataset and check for missing values\n"
      ]
    },
    {
      "cell_type": "code",
      "execution_count": null,
      "metadata": {
        "colab": {
          "base_uri": "https://localhost:8080/",
          "height": 300
        },
        "id": "UWxJ0RcOMKy_",
        "outputId": "17291fd1-7022-414b-9480-3df31dc26876"
      },
      "outputs": [
        {
          "output_type": "execute_result",
          "data": {
            "text/plain": [
              "            demand         temp\n",
              "count  1096.000000  1096.000000\n",
              "mean      1.831796    16.927737\n",
              "std       0.329434    10.791581\n",
              "min       1.316033   -15.000000\n",
              "25%       1.581654     8.900000\n",
              "50%       1.731479    18.900000\n",
              "75%       2.024869    26.100000\n",
              "max       2.804025    33.900000"
            ],
            "text/html": [
              "\n",
              "  <div id=\"df-51704f6b-492d-4ff8-bbc6-0abb7d843fc8\">\n",
              "    <div class=\"colab-df-container\">\n",
              "      <div>\n",
              "<style scoped>\n",
              "    .dataframe tbody tr th:only-of-type {\n",
              "        vertical-align: middle;\n",
              "    }\n",
              "\n",
              "    .dataframe tbody tr th {\n",
              "        vertical-align: top;\n",
              "    }\n",
              "\n",
              "    .dataframe thead th {\n",
              "        text-align: right;\n",
              "    }\n",
              "</style>\n",
              "<table border=\"1\" class=\"dataframe\">\n",
              "  <thead>\n",
              "    <tr style=\"text-align: right;\">\n",
              "      <th></th>\n",
              "      <th>demand</th>\n",
              "      <th>temp</th>\n",
              "    </tr>\n",
              "  </thead>\n",
              "  <tbody>\n",
              "    <tr>\n",
              "      <th>count</th>\n",
              "      <td>1096.000000</td>\n",
              "      <td>1096.000000</td>\n",
              "    </tr>\n",
              "    <tr>\n",
              "      <th>mean</th>\n",
              "      <td>1.831796</td>\n",
              "      <td>16.927737</td>\n",
              "    </tr>\n",
              "    <tr>\n",
              "      <th>std</th>\n",
              "      <td>0.329434</td>\n",
              "      <td>10.791581</td>\n",
              "    </tr>\n",
              "    <tr>\n",
              "      <th>min</th>\n",
              "      <td>1.316033</td>\n",
              "      <td>-15.000000</td>\n",
              "    </tr>\n",
              "    <tr>\n",
              "      <th>25%</th>\n",
              "      <td>1.581654</td>\n",
              "      <td>8.900000</td>\n",
              "    </tr>\n",
              "    <tr>\n",
              "      <th>50%</th>\n",
              "      <td>1.731479</td>\n",
              "      <td>18.900000</td>\n",
              "    </tr>\n",
              "    <tr>\n",
              "      <th>75%</th>\n",
              "      <td>2.024869</td>\n",
              "      <td>26.100000</td>\n",
              "    </tr>\n",
              "    <tr>\n",
              "      <th>max</th>\n",
              "      <td>2.804025</td>\n",
              "      <td>33.900000</td>\n",
              "    </tr>\n",
              "  </tbody>\n",
              "</table>\n",
              "</div>\n",
              "      <button class=\"colab-df-convert\" onclick=\"convertToInteractive('df-51704f6b-492d-4ff8-bbc6-0abb7d843fc8')\"\n",
              "              title=\"Convert this dataframe to an interactive table.\"\n",
              "              style=\"display:none;\">\n",
              "        \n",
              "  <svg xmlns=\"http://www.w3.org/2000/svg\" height=\"24px\"viewBox=\"0 0 24 24\"\n",
              "       width=\"24px\">\n",
              "    <path d=\"M0 0h24v24H0V0z\" fill=\"none\"/>\n",
              "    <path d=\"M18.56 5.44l.94 2.06.94-2.06 2.06-.94-2.06-.94-.94-2.06-.94 2.06-2.06.94zm-11 1L8.5 8.5l.94-2.06 2.06-.94-2.06-.94L8.5 2.5l-.94 2.06-2.06.94zm10 10l.94 2.06.94-2.06 2.06-.94-2.06-.94-.94-2.06-.94 2.06-2.06.94z\"/><path d=\"M17.41 7.96l-1.37-1.37c-.4-.4-.92-.59-1.43-.59-.52 0-1.04.2-1.43.59L10.3 9.45l-7.72 7.72c-.78.78-.78 2.05 0 2.83L4 21.41c.39.39.9.59 1.41.59.51 0 1.02-.2 1.41-.59l7.78-7.78 2.81-2.81c.8-.78.8-2.07 0-2.86zM5.41 20L4 18.59l7.72-7.72 1.47 1.35L5.41 20z\"/>\n",
              "  </svg>\n",
              "      </button>\n",
              "      \n",
              "  <style>\n",
              "    .colab-df-container {\n",
              "      display:flex;\n",
              "      flex-wrap:wrap;\n",
              "      gap: 12px;\n",
              "    }\n",
              "\n",
              "    .colab-df-convert {\n",
              "      background-color: #E8F0FE;\n",
              "      border: none;\n",
              "      border-radius: 50%;\n",
              "      cursor: pointer;\n",
              "      display: none;\n",
              "      fill: #1967D2;\n",
              "      height: 32px;\n",
              "      padding: 0 0 0 0;\n",
              "      width: 32px;\n",
              "    }\n",
              "\n",
              "    .colab-df-convert:hover {\n",
              "      background-color: #E2EBFA;\n",
              "      box-shadow: 0px 1px 2px rgba(60, 64, 67, 0.3), 0px 1px 3px 1px rgba(60, 64, 67, 0.15);\n",
              "      fill: #174EA6;\n",
              "    }\n",
              "\n",
              "    [theme=dark] .colab-df-convert {\n",
              "      background-color: #3B4455;\n",
              "      fill: #D2E3FC;\n",
              "    }\n",
              "\n",
              "    [theme=dark] .colab-df-convert:hover {\n",
              "      background-color: #434B5C;\n",
              "      box-shadow: 0px 1px 3px 1px rgba(0, 0, 0, 0.15);\n",
              "      filter: drop-shadow(0px 1px 2px rgba(0, 0, 0, 0.3));\n",
              "      fill: #FFFFFF;\n",
              "    }\n",
              "  </style>\n",
              "\n",
              "      <script>\n",
              "        const buttonEl =\n",
              "          document.querySelector('#df-51704f6b-492d-4ff8-bbc6-0abb7d843fc8 button.colab-df-convert');\n",
              "        buttonEl.style.display =\n",
              "          google.colab.kernel.accessAllowed ? 'block' : 'none';\n",
              "\n",
              "        async function convertToInteractive(key) {\n",
              "          const element = document.querySelector('#df-51704f6b-492d-4ff8-bbc6-0abb7d843fc8');\n",
              "          const dataTable =\n",
              "            await google.colab.kernel.invokeFunction('convertToInteractive',\n",
              "                                                     [key], {});\n",
              "          if (!dataTable) return;\n",
              "\n",
              "          const docLinkHtml = 'Like what you see? Visit the ' +\n",
              "            '<a target=\"_blank\" href=https://colab.research.google.com/notebooks/data_table.ipynb>data table notebook</a>'\n",
              "            + ' to learn more about interactive tables.';\n",
              "          element.innerHTML = '';\n",
              "          dataTable['output_type'] = 'display_data';\n",
              "          await google.colab.output.renderOutput(dataTable, element);\n",
              "          const docLink = document.createElement('div');\n",
              "          docLink.innerHTML = docLinkHtml;\n",
              "          element.appendChild(docLink);\n",
              "        }\n",
              "      </script>\n",
              "    </div>\n",
              "  </div>\n",
              "  "
            ]
          },
          "metadata": {},
          "execution_count": 4
        }
      ],
      "source": [
        "df.describe()"
      ]
    },
    {
      "cell_type": "code",
      "execution_count": null,
      "metadata": {
        "colab": {
          "base_uri": "https://localhost:8080/"
        },
        "id": "D_Ac1jM4MKzA",
        "outputId": "32b4e501-ae83-4006-ff51-329525fd3c20"
      },
      "outputs": [
        {
          "output_type": "stream",
          "name": "stdout",
          "text": [
            "The dataframe has 0 invalid rows\n"
          ]
        }
      ],
      "source": [
        "print('The dataframe has', df.count()[0] - df.dropna().count()[0], 'invalid rows')"
      ]
    },
    {
      "cell_type": "markdown",
      "metadata": {
        "id": "Bb5f8IyBMKzA"
      },
      "source": [
        "### Create X and y "
      ]
    },
    {
      "cell_type": "code",
      "execution_count": null,
      "metadata": {
        "colab": {
          "base_uri": "https://localhost:8080/"
        },
        "id": "4G08MamvMKzA",
        "outputId": "32feae5c-7600-479f-eaff-2352c50006a2"
      },
      "outputs": [
        {
          "output_type": "stream",
          "name": "stdout",
          "text": [
            "X has shape (1096, 1)\n",
            "y has shape (1096,)\n"
          ]
        }
      ],
      "source": [
        "target_name = 'demand'\n",
        "X = df['temp']\n",
        "y = df[target_name]\n",
        "\n",
        "# We're trying to infer the value of the power demand based on the temperature\n",
        "\n",
        "X = X.values.reshape(-1, 1)\n",
        "\n",
        "print('X has shape', X.shape)\n",
        "print('y has shape', y.shape)"
      ]
    },
    {
      "cell_type": "markdown",
      "metadata": {
        "id": "mPlYER0NMKzB"
      },
      "source": [
        "### Plot the distribution\n",
        "\n"
      ]
    },
    {
      "cell_type": "code",
      "execution_count": null,
      "metadata": {
        "colab": {
          "base_uri": "https://localhost:8080/",
          "height": 297
        },
        "id": "BU2MsHKxMKzB",
        "outputId": "d7b0dd5a-ed07-44dc-9fd7-5068b560bdb6"
      },
      "outputs": [
        {
          "output_type": "execute_result",
          "data": {
            "text/plain": [
              "Text(0, 0.5, 'Power Demand')"
            ]
          },
          "metadata": {},
          "execution_count": 14
        },
        {
          "output_type": "display_data",
          "data": {
            "text/plain": [
              "<Figure size 432x288 with 1 Axes>"
            ],
            "image/png": "[encoded data removed]"
          },
          "metadata": {
            "needs_background": "light"
          }
        }
      ],
      "source": [
        "plt.scatter(X, y)\n",
        "plt.xlabel('Temperature')\n",
        "plt.ylabel('Power Demand')"
      ]
    },
    {
      "cell_type": "markdown",
      "metadata": {
        "id": "qFdzqf55MKzB"
      },
      "source": [
        "### Divide the dataset in train and test splits"
      ]
    },
    {
      "cell_type": "code",
      "execution_count": null,
      "metadata": {
        "colab": {
          "base_uri": "https://localhost:8080/"
        },
        "id": "RNiW4YRiMKzC",
        "outputId": "10f56750-bb77-42d9-dae5-ca4c17fdaed6"
      },
      "outputs": [
        {
          "output_type": "stream",
          "name": "stdout",
          "text": [
            "The train set has 822 samples\n",
            "The test set has 274 samples\n"
          ]
        }
      ],
      "source": [
        "Xtrain, Xtest, ytrain, ytest = train_test_split(X, y, random_state=random_state)\n",
        "print('The train set has', len(ytrain), 'samples\\nThe test set has', len(ytest), 'samples')"
      ]
    },
    {
      "cell_type": "markdown",
      "metadata": {
        "id": "a_Y_ulmOMKzC"
      },
      "source": [
        "### Create an evaluation function to compute, print and return the metrics: rmse r2 f-statistic and p-value"
      ]
    },
    {
      "cell_type": "code",
      "execution_count": null,
      "metadata": {
        "id": "fLZmSYBkMKzC"
      },
      "outputs": [],
      "source": [
        "# Computation of F-statistic and p-value for the regression\n",
        "# http://facweb.cs.depaul.edu/sjost/csc423/documents/f-test-reg.htm\n",
        "\n",
        "# Sources: \n",
        "# - https://stackoverflow.com/a/57239611\n",
        "# - https://stats.stackexchange.com/questions/56881/whats-the-relationship-between-r2-and-f-test\n",
        "# - https://www.statology.org/f-test-python/\n",
        "\n",
        "# First link contains additional quality measures\n",
        "\n",
        "import sklearn.metrics as metrics\n",
        "\n",
        "def regression_results(x_test, y_true, y_pred):\n",
        "\n",
        "    # Regression metrics\n",
        "    explained_variance = metrics.explained_variance_score(y_true, y_pred)\n",
        "    mean_absolute_error = metrics.mean_absolute_error(y_true, y_pred) \n",
        "    mse = metrics.mean_squared_error(y_true, y_pred) \n",
        "    # mean_squared_log_error = metrics.mean_squared_log_error(y_true, y_pred)\n",
        "    median_absolute_error = metrics.median_absolute_error(y_true, y_pred)\n",
        "    r2 = metrics.r2_score(y_true, y_pred)\n",
        "\n",
        "    dfn = x_test.shape[1]       # DOF Numerator = K;           where: K = num of predictors (i.e., num of independent variables)\n",
        "    dfd = len(y_true) - (dfn+1) # DOF Denominator = N - (K+1); where: N = num of samples; K = num of predictors\n",
        "    \n",
        "    #fstat = np.var(x_test, ddof=1)/np.var(y_true, ddof=1)\n",
        "    fstat = (r2/(1-r2))*(dfd/dfn)\n",
        "    p_val = 1 - scipy.stats.f.cdf(fstat, dfn, dfd) # 1 - sm.F(K - 1, N - K).cdf(fstat)\n",
        "\n",
        "    rmse = np.sqrt(mse)\n",
        "\n",
        "    print('RMSE: ', round(rmse,4))\n",
        "    print('r2: ', round(r2,4))\n",
        "    print('F-statistic: ', round(fstat, 4))\n",
        "    print('p-value: ', p_val)#round(p_val,4)) # avoid rounding very small p-values to 0.0\n",
        "\n",
        "    return rmse, r2, fstat, p_val\n"
      ]
    },
    {
      "cell_type": "markdown",
      "metadata": {
        "id": "49mIKNRIMKzC"
      },
      "source": [
        "## First experiment\n",
        "Create a linear model \n",
        "\n",
        "Train the model on X_train and y_train \n",
        "\n",
        "Evaluate the model on X_test and y_test\n"
      ]
    },
    {
      "cell_type": "code",
      "execution_count": null,
      "metadata": {
        "colab": {
          "base_uri": "https://localhost:8080/"
        },
        "id": "NF2o5f_TMKzD",
        "outputId": "9aff64ac-ab4c-49db-d430-7e7454ab1bf3"
      },
      "outputs": [
        {
          "output_type": "stream",
          "name": "stdout",
          "text": [
            "RMSE:  0.3158\n",
            "r2:  0.165\n",
            "F-statistic:  53.7374\n",
            "p-value:  2.6256774532384952e-12\n"
          ]
        }
      ],
      "source": [
        "scores = []\n",
        "\n",
        "model = linear_model.LinearRegression()\n",
        "model = model.fit(Xtrain, ytrain)\n",
        "ypred = model.predict(Xtest)\n",
        "\n",
        "rmse, r2, fstat, p_val = regression_results(Xtest, ytest, ypred)\n",
        "scores.append([rmse, r2, fstat, p_val])"
      ]
    },
    {
      "cell_type": "markdown",
      "metadata": {
        "id": "8AW30Nb9MKzD"
      },
      "source": [
        "#### Visualize the prediction of the model "
      ]
    },
    {
      "cell_type": "code",
      "execution_count": null,
      "metadata": {
        "colab": {
          "base_uri": "https://localhost:8080/",
          "height": 279
        },
        "id": "McAbsQjRMKzD",
        "outputId": "77000060-a4dc-40cc-e3c4-c647c974988c"
      },
      "outputs": [
        {
          "output_type": "display_data",
          "data": {
            "text/plain": [
              "<Figure size 432x288 with 1 Axes>"
            ],
            "image/png": "[encoded data removed]"
          },
          "metadata": {
            "needs_background": "light"
          }
        }
      ],
      "source": [
        "plt.scatter(x=X, y=y)\n",
        "plt.plot(Xtest, ypred, c='r', label='linear')\n",
        "plt.legend(loc=\"upper left\")\n",
        "plt.xlabel('Temperature')\n",
        "plt.ylabel('Power Demand')\n",
        "plt.show()\n"
      ]
    },
    {
      "cell_type": "markdown",
      "metadata": {
        "id": "a3RJ5H9iMKzD"
      },
      "source": [
        "## Second experiment - Polynomial regression\n",
        "We can clearly see that the linear regression model cannot really approximate the data distribution.\n",
        "\n",
        "We can now try with a non linear regression model:\n",
        "1. Use the sklearn fucntion _PolynomialFeature_ to create a new array of features. Set _degree=2_ and _include_bias=False_\n",
        "2. Train a Linear regression model with the new features\n",
        "3. Evaluate the model \n",
        "4. Visualize the predicted values of the model"
      ]
    },
    {
      "cell_type": "markdown",
      "metadata": {
        "id": "gCWVH8yYMKzE"
      },
      "source": [
        "#### Polynomial degree = 2"
      ]
    },
    {
      "cell_type": "markdown",
      "source": [
        "First we obtain the array containing the polynomial features, hence, knowing $x_i$ for each sample $i$, we compute $$ \\beta_0 + \\beta_1x_i + \\beta_2x_i^2 + \\ldots \\beta_dx_i^d$$\n",
        "With d being the degree of the polynomial (in this case, 2) and $\\beta_j$ the j-th coefficient (handled automatically?)\n",
        "\n",
        "Then we train the linear model on the polynomial features, specifying the expected output (ytrain)"
      ],
      "metadata": {
        "id": "qCLVWDwlN7fl"
      }
    },
    {
      "cell_type": "code",
      "execution_count": null,
      "metadata": {
        "id": "r8V47KVcMKzE",
        "outputId": "8fd2b21d-b54f-4070-e290-92e5a703c661",
        "colab": {
          "base_uri": "https://localhost:8080/"
        }
      },
      "outputs": [
        {
          "output_type": "execute_result",
          "data": {
            "text/plain": [
              "LinearRegression()"
            ]
          },
          "metadata": {},
          "execution_count": 104
        }
      ],
      "source": [
        "poly = PolynomialFeatures(degree=2, include_bias=False) #LinearRegression model already handles the bias (y intercept)\n",
        "# computes the features (values of the independent variables) for each degree of the polynomial (in this case up to 2)\n",
        "poly_features = poly.fit_transform(Xtrain)\n",
        "# now we fit the linear reg model on the polynomial features, the sum of which, for each i, must match the respective y value\n",
        "model.fit(poly_features, ytrain)"
      ]
    },
    {
      "cell_type": "code",
      "execution_count": null,
      "metadata": {
        "id": "n5U8X7VUMKzE",
        "outputId": "435b1cce-ca62-48c3-b157-f4cc1fdf8ea9",
        "colab": {
          "base_uri": "https://localhost:8080/"
        }
      },
      "outputs": [
        {
          "output_type": "stream",
          "name": "stdout",
          "text": [
            "RMSE:  0.1777\n",
            "r2:  0.7356\n",
            "F-statistic:  377.007\n",
            "p-value:  1.1102230246251565e-16\n"
          ]
        }
      ],
      "source": [
        "# To predict using polynomial regression we have to first compute the polynomial features of the test set\n",
        "poly_features_test = poly.fit_transform(Xtest)\n",
        "ypred = model.predict(poly_features_test)\n",
        "\n",
        "# Important: the f-statistic and p-value have to be computed based on the polynomial features array, not the linear one\n",
        "rmse, r2, fstat, p_val = regression_results(poly_features_test, ytest, ypred)\n",
        "scores.append([rmse, r2, fstat, p_val])"
      ]
    },
    {
      "cell_type": "code",
      "execution_count": null,
      "metadata": {
        "id": "dBfeeDvIMKzE",
        "outputId": "ca857730-1ef5-4163-ea84-d8554ced42ee",
        "colab": {
          "base_uri": "https://localhost:8080/",
          "height": 265
        }
      },
      "outputs": [
        {
          "output_type": "display_data",
          "data": {
            "text/plain": [
              "<Figure size 432x288 with 1 Axes>"
            ],
            "image/png": "[encoded data removed]"
          },
          "metadata": {
            "needs_background": "light"
          }
        }
      ],
      "source": [
        "Xtestinds = Xtest.flatten().argsort()\n",
        "sorted_Xtest = Xtest[Xtestinds]\n",
        "sorted_ypred = ypred[Xtestinds]\n",
        "\n",
        "plt.scatter(x=X, y=y)\n",
        "plt.plot(sorted_Xtest, sorted_ypred, c='r', label='poly')\n",
        "plt.legend(loc=\"lower left\")\n",
        "plt.show()"
      ]
    },
    {
      "cell_type": "markdown",
      "metadata": {
        "id": "beunKY3jMKzE"
      },
      "source": [
        "## Third experiment"
      ]
    },
    {
      "cell_type": "markdown",
      "metadata": {
        "id": "uL2cJ4hkMKzE"
      },
      "source": [
        "#### Polynomial degree = 3"
      ]
    },
    {
      "cell_type": "code",
      "execution_count": null,
      "metadata": {
        "id": "QrXd-oY4MKzF",
        "outputId": "7d77d190-b882-422b-e9a8-9d3f49ba7d20",
        "colab": {
          "base_uri": "https://localhost:8080/"
        }
      },
      "outputs": [
        {
          "output_type": "execute_result",
          "data": {
            "text/plain": [
              "LinearRegression()"
            ]
          },
          "metadata": {},
          "execution_count": 106
        }
      ],
      "source": [
        "poly = PolynomialFeatures(degree=3, include_bias=False) #LinearRegression model already handles the bias (y intercept)\n",
        "# computes the features (values of the independent variables) for each degree of the polynomial (in this case up to 2)\n",
        "poly_features = poly.fit_transform(Xtrain)\n",
        "# now we fit the linear reg model on the polynomial features, the sum of which, for each i, must match the respective y value\n",
        "model.fit(poly_features, ytrain)"
      ]
    },
    {
      "cell_type": "code",
      "execution_count": null,
      "metadata": {
        "id": "r_ElSxpxMKzF",
        "outputId": "1d8c72a5-d798-4fd8-8592-174a812fdd79",
        "colab": {
          "base_uri": "https://localhost:8080/"
        }
      },
      "outputs": [
        {
          "output_type": "stream",
          "name": "stdout",
          "text": [
            "RMSE:  0.1414\n",
            "r2:  0.8326\n",
            "F-statistic:  447.5508\n",
            "p-value:  1.1102230246251565e-16\n"
          ]
        }
      ],
      "source": [
        "# To predict using polynomial regression we have to first compute the polynomial features of the test set\n",
        "poly_features_test = poly.fit_transform(Xtest)\n",
        "ypred = model.predict(poly_features_test)\n",
        "\n",
        "# Important: the f-statistic and p-value have to be computed based on the polynomial features array, not the linear one\n",
        "rmse, r2, fstat, p_val = regression_results(poly_features_test, ytest, ypred)\n",
        "scores.append([rmse, r2, fstat, p_val])"
      ]
    },
    {
      "cell_type": "code",
      "execution_count": null,
      "metadata": {
        "id": "du5_OKSqMKzF",
        "outputId": "e1fb9e96-fa43-418c-daa9-3ec7d2158b0e",
        "colab": {
          "base_uri": "https://localhost:8080/",
          "height": 265
        }
      },
      "outputs": [
        {
          "output_type": "display_data",
          "data": {
            "text/plain": [
              "<Figure size 432x288 with 1 Axes>"
            ],
            "image/png": "[encoded data removed]"
          },
          "metadata": {
            "needs_background": "light"
          }
        }
      ],
      "source": [
        "Xtestinds = Xtest.flatten().argsort()\n",
        "sorted_Xtest = Xtest[Xtestinds]\n",
        "sorted_ypred = ypred[Xtestinds]\n",
        "\n",
        "plt.scatter(x=X, y=y)\n",
        "plt.plot(sorted_Xtest, sorted_ypred, c='r', label='poly')\n",
        "plt.legend(loc=\"lower left\")\n",
        "plt.show()"
      ]
    },
    {
      "cell_type": "markdown",
      "metadata": {
        "id": "eftUAQAcMKzF"
      },
      "source": [
        "## Fourth experiment\n",
        "### Polynomial degree = 4"
      ]
    },
    {
      "cell_type": "code",
      "execution_count": null,
      "metadata": {
        "id": "faKm9upaMKzG",
        "outputId": "b3243b3c-00d3-4a40-fdcc-cc9e97c5fb81",
        "colab": {
          "base_uri": "https://localhost:8080/"
        }
      },
      "outputs": [
        {
          "output_type": "execute_result",
          "data": {
            "text/plain": [
              "LinearRegression()"
            ]
          },
          "metadata": {},
          "execution_count": 108
        }
      ],
      "source": [
        "poly = PolynomialFeatures(degree=4, include_bias=False) #LinearRegression model already handles the bias (y intercept)\n",
        "# computes the features (values of the independent variables) for each degree of the polynomial (in this case up to 2)\n",
        "poly_features = poly.fit_transform(Xtrain)\n",
        "# now we fit the linear reg model on the polynomial features, the sum of which, for each i, must match the respective y value\n",
        "model.fit(poly_features, ytrain)"
      ]
    },
    {
      "cell_type": "code",
      "execution_count": null,
      "metadata": {
        "id": "OOjlP6yjMKzG",
        "outputId": "fca2de7c-9a16-41af-e334-39d931f10b6e",
        "colab": {
          "base_uri": "https://localhost:8080/"
        }
      },
      "outputs": [
        {
          "output_type": "stream",
          "name": "stdout",
          "text": [
            "RMSE:  0.1403\n",
            "r2:  0.8351\n",
            "F-statistic:  340.6006\n",
            "p-value:  1.1102230246251565e-16\n"
          ]
        }
      ],
      "source": [
        "# To predict using polynomial regression we have to first compute the polynomial features of the test set\n",
        "poly_features_test = poly.fit_transform(Xtest)\n",
        "ypred = model.predict(poly_features_test)\n",
        "\n",
        "# Important: the f-statistic and p-value have to be computed based on the polynomial features array, not the linear one\n",
        "rmse, r2, fstat, p_val = regression_results(poly_features_test, ytest, ypred)\n",
        "scores.append([rmse, r2, fstat, p_val])"
      ]
    },
    {
      "cell_type": "code",
      "execution_count": null,
      "metadata": {
        "id": "xelErWP-MKzG",
        "outputId": "ba9b1fc5-5a1e-4862-dae6-d42c2131e6b7",
        "colab": {
          "base_uri": "https://localhost:8080/",
          "height": 265
        }
      },
      "outputs": [
        {
          "output_type": "display_data",
          "data": {
            "text/plain": [
              "<Figure size 432x288 with 1 Axes>"
            ],
            "image/png": "[encoded data removed]"
          },
          "metadata": {
            "needs_background": "light"
          }
        }
      ],
      "source": [
        "Xtestinds = Xtest.flatten().argsort()\n",
        "sorted_Xtest = Xtest[Xtestinds]\n",
        "sorted_ypred = ypred[Xtestinds]\n",
        "\n",
        "plt.scatter(x=X, y=y)\n",
        "plt.plot(sorted_Xtest, sorted_ypred, c='r', label='poly')\n",
        "plt.legend(loc=\"lower left\")\n",
        "plt.show()"
      ]
    },
    {
      "cell_type": "markdown",
      "metadata": {
        "id": "HURPNOAjMKzG"
      },
      "source": [
        "## Compare the performance of the four models"
      ]
    },
    {
      "cell_type": "code",
      "execution_count": null,
      "metadata": {
        "id": "IZM0g4hCMKzG",
        "outputId": "c39d6a05-cb19-4377-b4bb-cecf42ee76ac",
        "colab": {
          "base_uri": "https://localhost:8080/",
          "height": 287
        }
      },
      "outputs": [
        {
          "output_type": "stream",
          "name": "stdout",
          "text": [
            "[[0.31582119796104285, 0.16497160632995378, 53.73742648980904, 2.6256774532384952e-12], [0.177709400808168, 0.7356133663568161, 377.0069983033663, 1.1102230246251565e-16], [0.14141717682425192, 0.83257395588548, 447.55077638004565, 1.1102230246251565e-16], [0.14034154337480137, 0.8351111889083296, 340.60059674311174, 1.1102230246251565e-16]]\n",
            "[[3.15821198e-01 1.77709401e-01 1.41417177e-01 1.40341543e-01]\n",
            " [1.64971606e-01 7.35613366e-01 8.32573956e-01 8.35111189e-01]\n",
            " [5.37374265e+01 3.77006998e+02 4.47550776e+02 3.40600597e+02]\n",
            " [2.62567745e-12 1.11022302e-16 1.11022302e-16 1.11022302e-16]]\n"
          ]
        },
        {
          "output_type": "execute_result",
          "data": {
            "text/plain": [
              "               linear  polynomial d=2  polynomial d=3  polynomial d=4\n",
              "rmse     3.158212e-01    1.777094e-01    1.414172e-01    1.403415e-01\n",
              "r2       1.649716e-01    7.356134e-01    8.325740e-01    8.351112e-01\n",
              "f-stat   5.373743e+01    3.770070e+02    4.475508e+02    3.406006e+02\n",
              "p-value  2.625677e-12    1.110223e-16    1.110223e-16    1.110223e-16"
            ],
            "text/html": [
              "\n",
              "  <div id=\"df-760050d0-1dcb-434a-b964-3bdab3c3b905\">\n",
              "    <div class=\"colab-df-container\">\n",
              "      <div>\n",
              "<style scoped>\n",
              "    .dataframe tbody tr th:only-of-type {\n",
              "        vertical-align: middle;\n",
              "    }\n",
              "\n",
              "    .dataframe tbody tr th {\n",
              "        vertical-align: top;\n",
              "    }\n",
              "\n",
              "    .dataframe thead th {\n",
              "        text-align: right;\n",
              "    }\n",
              "</style>\n",
              "<table border=\"1\" class=\"dataframe\">\n",
              "  <thead>\n",
              "    <tr style=\"text-align: right;\">\n",
              "      <th></th>\n",
              "      <th>linear</th>\n",
              "      <th>polynomial d=2</th>\n",
              "      <th>polynomial d=3</th>\n",
              "      <th>polynomial d=4</th>\n",
              "    </tr>\n",
              "  </thead>\n",
              "  <tbody>\n",
              "    <tr>\n",
              "      <th>rmse</th>\n",
              "      <td>3.158212e-01</td>\n",
              "      <td>1.777094e-01</td>\n",
              "      <td>1.414172e-01</td>\n",
              "      <td>1.403415e-01</td>\n",
              "    </tr>\n",
              "    <tr>\n",
              "      <th>r2</th>\n",
              "      <td>1.649716e-01</td>\n",
              "      <td>7.356134e-01</td>\n",
              "      <td>8.325740e-01</td>\n",
              "      <td>8.351112e-01</td>\n",
              "    </tr>\n",
              "    <tr>\n",
              "      <th>f-stat</th>\n",
              "      <td>5.373743e+01</td>\n",
              "      <td>3.770070e+02</td>\n",
              "      <td>4.475508e+02</td>\n",
              "      <td>3.406006e+02</td>\n",
              "    </tr>\n",
              "    <tr>\n",
              "      <th>p-value</th>\n",
              "      <td>2.625677e-12</td>\n",
              "      <td>1.110223e-16</td>\n",
              "      <td>1.110223e-16</td>\n",
              "      <td>1.110223e-16</td>\n",
              "    </tr>\n",
              "  </tbody>\n",
              "</table>\n",
              "</div>\n",
              "      <button class=\"colab-df-convert\" onclick=\"convertToInteractive('df-760050d0-1dcb-434a-b964-3bdab3c3b905')\"\n",
              "              title=\"Convert this dataframe to an interactive table.\"\n",
              "              style=\"display:none;\">\n",
              "        \n",
              "  <svg xmlns=\"http://www.w3.org/2000/svg\" height=\"24px\"viewBox=\"0 0 24 24\"\n",
              "       width=\"24px\">\n",
              "    <path d=\"M0 0h24v24H0V0z\" fill=\"none\"/>\n",
              "    <path d=\"M18.56 5.44l.94 2.06.94-2.06 2.06-.94-2.06-.94-.94-2.06-.94 2.06-2.06.94zm-11 1L8.5 8.5l.94-2.06 2.06-.94-2.06-.94L8.5 2.5l-.94 2.06-2.06.94zm10 10l.94 2.06.94-2.06 2.06-.94-2.06-.94-.94-2.06-.94 2.06-2.06.94z\"/><path d=\"M17.41 7.96l-1.37-1.37c-.4-.4-.92-.59-1.43-.59-.52 0-1.04.2-1.43.59L10.3 9.45l-7.72 7.72c-.78.78-.78 2.05 0 2.83L4 21.41c.39.39.9.59 1.41.59.51 0 1.02-.2 1.41-.59l7.78-7.78 2.81-2.81c.8-.78.8-2.07 0-2.86zM5.41 20L4 18.59l7.72-7.72 1.47 1.35L5.41 20z\"/>\n",
              "  </svg>\n",
              "      </button>\n",
              "      \n",
              "  <style>\n",
              "    .colab-df-container {\n",
              "      display:flex;\n",
              "      flex-wrap:wrap;\n",
              "      gap: 12px;\n",
              "    }\n",
              "\n",
              "    .colab-df-convert {\n",
              "      background-color: #E8F0FE;\n",
              "      border: none;\n",
              "      border-radius: 50%;\n",
              "      cursor: pointer;\n",
              "      display: none;\n",
              "      fill: #1967D2;\n",
              "      height: 32px;\n",
              "      padding: 0 0 0 0;\n",
              "      width: 32px;\n",
              "    }\n",
              "\n",
              "    .colab-df-convert:hover {\n",
              "      background-color: #E2EBFA;\n",
              "      box-shadow: 0px 1px 2px rgba(60, 64, 67, 0.3), 0px 1px 3px 1px rgba(60, 64, 67, 0.15);\n",
              "      fill: #174EA6;\n",
              "    }\n",
              "\n",
              "    [theme=dark] .colab-df-convert {\n",
              "      background-color: #3B4455;\n",
              "      fill: #D2E3FC;\n",
              "    }\n",
              "\n",
              "    [theme=dark] .colab-df-convert:hover {\n",
              "      background-color: #434B5C;\n",
              "      box-shadow: 0px 1px 3px 1px rgba(0, 0, 0, 0.15);\n",
              "      filter: drop-shadow(0px 1px 2px rgba(0, 0, 0, 0.3));\n",
              "      fill: #FFFFFF;\n",
              "    }\n",
              "  </style>\n",
              "\n",
              "      <script>\n",
              "        const buttonEl =\n",
              "          document.querySelector('#df-760050d0-1dcb-434a-b964-3bdab3c3b905 button.colab-df-convert');\n",
              "        buttonEl.style.display =\n",
              "          google.colab.kernel.accessAllowed ? 'block' : 'none';\n",
              "\n",
              "        async function convertToInteractive(key) {\n",
              "          const element = document.querySelector('#df-760050d0-1dcb-434a-b964-3bdab3c3b905');\n",
              "          const dataTable =\n",
              "            await google.colab.kernel.invokeFunction('convertToInteractive',\n",
              "                                                     [key], {});\n",
              "          if (!dataTable) return;\n",
              "\n",
              "          const docLinkHtml = 'Like what you see? Visit the ' +\n",
              "            '<a target=\"_blank\" href=https://colab.research.google.com/notebooks/data_table.ipynb>data table notebook</a>'\n",
              "            + ' to learn more about interactive tables.';\n",
              "          element.innerHTML = '';\n",
              "          dataTable['output_type'] = 'display_data';\n",
              "          await google.colab.output.renderOutput(dataTable, element);\n",
              "          const docLink = document.createElement('div');\n",
              "          docLink.innerHTML = docLinkHtml;\n",
              "          element.appendChild(docLink);\n",
              "        }\n",
              "      </script>\n",
              "    </div>\n",
              "  </div>\n",
              "  "
            ]
          },
          "metadata": {},
          "execution_count": 113
        }
      ],
      "source": [
        "comp = pd.DataFrame(np.transpose(scores), columns=['linear', 'polynomial d=2', 'polynomial d=3', 'polynomial d=4'], index=['rmse','r2','f-stat','p-value'])\n",
        "\n",
        "comp.head()"
      ]
    },
    {
      "cell_type": "code",
      "execution_count": null,
      "metadata": {
        "id": "cmnyNfM8MKzH"
      },
      "outputs": [],
      "source": []
    }
  ],
  "metadata": {
    "kernelspec": {
      "display_name": "Python 3.7.13 ('res')",
      "language": "python",
      "name": "python3"
    },
    "language_info": {
      "codemirror_mode": {
        "name": "ipython",
        "version": 3
      },
      "file_extension": ".py",
      "mimetype": "text/x-python",
      "name": "python",
      "nbconvert_exporter": "python",
      "pygments_lexer": "ipython3",
      "version": "3.7.13"
    },
    "orig_nbformat": 4,
    "vscode": {
      "interpreter": {
        "hash": "7650257707f3238d5df88771c66da47b78c5077cb779498608c81dcf9deec5b5"
      }
    },
    "colab": {
      "provenance": []
    }
  },
  "nbformat": 4,
  "nbformat_minor": 0
}